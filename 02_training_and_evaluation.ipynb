{
 "cells": [
  {
   "cell_type": "markdown",
   "id": "5b1efc36-f3ad-4c3b-8115-a9f288a541bf",
   "metadata": {
    "id": "5b1efc36-f3ad-4c3b-8115-a9f288a541bf"
   },
   "source": [
    "# **MSA Phase 2 - Part 2**"
   ]
  },
  {
   "cell_type": "code",
   "execution_count": 1,
   "id": "0QGgOnoRNo72",
   "metadata": {
    "id": "0QGgOnoRNo72"
   },
   "outputs": [],
   "source": [
    "# !pip install pmdarima"
   ]
  },
  {
   "cell_type": "code",
   "execution_count": 2,
   "id": "d5d5f0ed-4880-4958-aa39-8dcea471fc86",
   "metadata": {
    "id": "d5d5f0ed-4880-4958-aa39-8dcea471fc86"
   },
   "outputs": [],
   "source": [
    "# Import libraries\n",
    "import numpy as np\n",
    "import pandas as pd\n",
    "import seaborn as sns\n",
    "import warnings\n",
    "import matplotlib.pyplot as plt\n",
    "%matplotlib inline\n",
    "\n",
    "from sklearn.feature_selection import RFE\n",
    "from sklearn.model_selection import train_test_split\n",
    "from sklearn.model_selection import TimeSeriesSplit\n",
    "from sklearn.linear_model import LinearRegression\n",
    "from sklearn.metrics import mean_absolute_percentage_error, mean_absolute_error, mean_squared_error, r2_score\n",
    "\n",
    "from statsmodels.tsa.arima.model import ARIMA\n",
    "from statsmodels.tsa.stattools import adfuller\n",
    "from statsmodels.graphics.tsaplots import plot_pacf, plot_acf\n",
    "\n",
    "from pmdarima.arima import auto_arima"
   ]
  },
  {
   "cell_type": "code",
   "execution_count": 3,
   "id": "IQDUJ8eqwfVc",
   "metadata": {
    "colab": {
     "base_uri": "https://localhost:8080/"
    },
    "id": "IQDUJ8eqwfVc",
    "outputId": "b6ec4a7c-6633-4b95-bf80-be6343ee1bf8"
   },
   "outputs": [
    {
     "name": "stdout",
     "output_type": "stream",
     "text": [
      "Drive already mounted at /content/drive; to attempt to forcibly remount, call drive.mount(\"/content/drive\", force_remount=True).\n"
     ]
    }
   ],
   "source": [
    "# # Only on Google Colab\n",
    "# from google.colab import drive\n",
    "# drive.mount('/content/drive')"
   ]
  },
  {
   "cell_type": "markdown",
   "id": "ec06580e-27d5-4351-a602-c201b590273e",
   "metadata": {
    "id": "ec06580e-27d5-4351-a602-c201b590273e"
   },
   "source": [
    "### **0. Task**\n",
    "\n",
    "\n",
    "---\n",
    "\n",
    "\n",
    "In this notebook, I plan to predict the weekly sales for **selected store and department**. In specific, the idea is pick one store and one department, predict its weekly sales for the following couple weeks."
   ]
  },
  {
   "cell_type": "markdown",
   "id": "9d72e80a-a01a-49b5-869e-95ff05dd51eb",
   "metadata": {
    "id": "9d72e80a-a01a-49b5-869e-95ff05dd51eb"
   },
   "source": [
    "### **1. Load and Examine the Cleaned Dataset**\n",
    "\n",
    "\n",
    "---\n",
    "\n"
   ]
  },
  {
   "cell_type": "code",
   "execution_count": 4,
   "id": "ed55c06c-adbc-4dae-b7c4-5fb99d5bbe71",
   "metadata": {
    "colab": {
     "base_uri": "https://localhost:8080/",
     "height": 313
    },
    "id": "ed55c06c-adbc-4dae-b7c4-5fb99d5bbe71",
    "outputId": "afb09f72-fc66-4810-a899-a90ae399b561"
   },
   "outputs": [
    {
     "data": {
      "application/vnd.google.colaboratory.intrinsic+json": {
       "type": "dataframe",
       "variable_name": "data"
      },
      "text/html": [
       "\n",
       "  <div id=\"df-306b3f56-7d8c-4048-b2f2-3c7d81f3526a\" class=\"colab-df-container\">\n",
       "    <div>\n",
       "<style scoped>\n",
       "    .dataframe tbody tr th:only-of-type {\n",
       "        vertical-align: middle;\n",
       "    }\n",
       "\n",
       "    .dataframe tbody tr th {\n",
       "        vertical-align: top;\n",
       "    }\n",
       "\n",
       "    .dataframe thead th {\n",
       "        text-align: right;\n",
       "    }\n",
       "</style>\n",
       "<table border=\"1\" class=\"dataframe\">\n",
       "  <thead>\n",
       "    <tr style=\"text-align: right;\">\n",
       "      <th></th>\n",
       "      <th>Store</th>\n",
       "      <th>Dept</th>\n",
       "      <th>Date</th>\n",
       "      <th>Year</th>\n",
       "      <th>Month</th>\n",
       "      <th>Day</th>\n",
       "      <th>IsHoliday</th>\n",
       "      <th>IsHoliday_False</th>\n",
       "      <th>IsHoliday_True</th>\n",
       "      <th>Temperature</th>\n",
       "      <th>CPI</th>\n",
       "      <th>Unemployment</th>\n",
       "      <th>Size</th>\n",
       "      <th>Weekly_Sales</th>\n",
       "    </tr>\n",
       "  </thead>\n",
       "  <tbody>\n",
       "    <tr>\n",
       "      <th>0</th>\n",
       "      <td>1</td>\n",
       "      <td>1</td>\n",
       "      <td>2010-02-05</td>\n",
       "      <td>2010</td>\n",
       "      <td>2</td>\n",
       "      <td>5</td>\n",
       "      <td>0</td>\n",
       "      <td>1</td>\n",
       "      <td>0</td>\n",
       "      <td>42.31</td>\n",
       "      <td>211.096358</td>\n",
       "      <td>8.106</td>\n",
       "      <td>151315</td>\n",
       "      <td>24924.50</td>\n",
       "    </tr>\n",
       "    <tr>\n",
       "      <th>1</th>\n",
       "      <td>1</td>\n",
       "      <td>1</td>\n",
       "      <td>2010-02-12</td>\n",
       "      <td>2010</td>\n",
       "      <td>2</td>\n",
       "      <td>12</td>\n",
       "      <td>1</td>\n",
       "      <td>0</td>\n",
       "      <td>1</td>\n",
       "      <td>38.51</td>\n",
       "      <td>211.242170</td>\n",
       "      <td>8.106</td>\n",
       "      <td>151315</td>\n",
       "      <td>46039.49</td>\n",
       "    </tr>\n",
       "    <tr>\n",
       "      <th>2</th>\n",
       "      <td>1</td>\n",
       "      <td>1</td>\n",
       "      <td>2010-02-19</td>\n",
       "      <td>2010</td>\n",
       "      <td>2</td>\n",
       "      <td>19</td>\n",
       "      <td>0</td>\n",
       "      <td>1</td>\n",
       "      <td>0</td>\n",
       "      <td>39.93</td>\n",
       "      <td>211.289143</td>\n",
       "      <td>8.106</td>\n",
       "      <td>151315</td>\n",
       "      <td>41595.55</td>\n",
       "    </tr>\n",
       "    <tr>\n",
       "      <th>3</th>\n",
       "      <td>1</td>\n",
       "      <td>1</td>\n",
       "      <td>2010-02-26</td>\n",
       "      <td>2010</td>\n",
       "      <td>2</td>\n",
       "      <td>26</td>\n",
       "      <td>0</td>\n",
       "      <td>1</td>\n",
       "      <td>0</td>\n",
       "      <td>46.63</td>\n",
       "      <td>211.319643</td>\n",
       "      <td>8.106</td>\n",
       "      <td>151315</td>\n",
       "      <td>19403.54</td>\n",
       "    </tr>\n",
       "    <tr>\n",
       "      <th>4</th>\n",
       "      <td>1</td>\n",
       "      <td>1</td>\n",
       "      <td>2010-03-05</td>\n",
       "      <td>2010</td>\n",
       "      <td>3</td>\n",
       "      <td>5</td>\n",
       "      <td>0</td>\n",
       "      <td>1</td>\n",
       "      <td>0</td>\n",
       "      <td>46.50</td>\n",
       "      <td>211.350143</td>\n",
       "      <td>8.106</td>\n",
       "      <td>151315</td>\n",
       "      <td>21827.90</td>\n",
       "    </tr>\n",
       "  </tbody>\n",
       "</table>\n",
       "</div>\n",
       "    <div class=\"colab-df-buttons\">\n",
       "\n",
       "  <div class=\"colab-df-container\">\n",
       "    <button class=\"colab-df-convert\" onclick=\"convertToInteractive('df-306b3f56-7d8c-4048-b2f2-3c7d81f3526a')\"\n",
       "            title=\"Convert this dataframe to an interactive table.\"\n",
       "            style=\"display:none;\">\n",
       "\n",
       "  <svg xmlns=\"http://www.w3.org/2000/svg\" height=\"24px\" viewBox=\"0 -960 960 960\">\n",
       "    <path d=\"M120-120v-720h720v720H120Zm60-500h600v-160H180v160Zm220 220h160v-160H400v160Zm0 220h160v-160H400v160ZM180-400h160v-160H180v160Zm440 0h160v-160H620v160ZM180-180h160v-160H180v160Zm440 0h160v-160H620v160Z\"/>\n",
       "  </svg>\n",
       "    </button>\n",
       "\n",
       "  <style>\n",
       "    .colab-df-container {\n",
       "      display:flex;\n",
       "      gap: 12px;\n",
       "    }\n",
       "\n",
       "    .colab-df-convert {\n",
       "      background-color: #E8F0FE;\n",
       "      border: none;\n",
       "      border-radius: 50%;\n",
       "      cursor: pointer;\n",
       "      display: none;\n",
       "      fill: #1967D2;\n",
       "      height: 32px;\n",
       "      padding: 0 0 0 0;\n",
       "      width: 32px;\n",
       "    }\n",
       "\n",
       "    .colab-df-convert:hover {\n",
       "      background-color: #E2EBFA;\n",
       "      box-shadow: 0px 1px 2px rgba(60, 64, 67, 0.3), 0px 1px 3px 1px rgba(60, 64, 67, 0.15);\n",
       "      fill: #174EA6;\n",
       "    }\n",
       "\n",
       "    .colab-df-buttons div {\n",
       "      margin-bottom: 4px;\n",
       "    }\n",
       "\n",
       "    [theme=dark] .colab-df-convert {\n",
       "      background-color: #3B4455;\n",
       "      fill: #D2E3FC;\n",
       "    }\n",
       "\n",
       "    [theme=dark] .colab-df-convert:hover {\n",
       "      background-color: #434B5C;\n",
       "      box-shadow: 0px 1px 3px 1px rgba(0, 0, 0, 0.15);\n",
       "      filter: drop-shadow(0px 1px 2px rgba(0, 0, 0, 0.3));\n",
       "      fill: #FFFFFF;\n",
       "    }\n",
       "  </style>\n",
       "\n",
       "    <script>\n",
       "      const buttonEl =\n",
       "        document.querySelector('#df-306b3f56-7d8c-4048-b2f2-3c7d81f3526a button.colab-df-convert');\n",
       "      buttonEl.style.display =\n",
       "        google.colab.kernel.accessAllowed ? 'block' : 'none';\n",
       "\n",
       "      async function convertToInteractive(key) {\n",
       "        const element = document.querySelector('#df-306b3f56-7d8c-4048-b2f2-3c7d81f3526a');\n",
       "        const dataTable =\n",
       "          await google.colab.kernel.invokeFunction('convertToInteractive',\n",
       "                                                    [key], {});\n",
       "        if (!dataTable) return;\n",
       "\n",
       "        const docLinkHtml = 'Like what you see? Visit the ' +\n",
       "          '<a target=\"_blank\" href=https://colab.research.google.com/notebooks/data_table.ipynb>data table notebook</a>'\n",
       "          + ' to learn more about interactive tables.';\n",
       "        element.innerHTML = '';\n",
       "        dataTable['output_type'] = 'display_data';\n",
       "        await google.colab.output.renderOutput(dataTable, element);\n",
       "        const docLink = document.createElement('div');\n",
       "        docLink.innerHTML = docLinkHtml;\n",
       "        element.appendChild(docLink);\n",
       "      }\n",
       "    </script>\n",
       "  </div>\n",
       "\n",
       "\n",
       "<div id=\"df-fd76bc8f-0a51-4d7d-b66a-d752072c9c77\">\n",
       "  <button class=\"colab-df-quickchart\" onclick=\"quickchart('df-fd76bc8f-0a51-4d7d-b66a-d752072c9c77')\"\n",
       "            title=\"Suggest charts\"\n",
       "            style=\"display:none;\">\n",
       "\n",
       "<svg xmlns=\"http://www.w3.org/2000/svg\" height=\"24px\"viewBox=\"0 0 24 24\"\n",
       "     width=\"24px\">\n",
       "    <g>\n",
       "        <path d=\"M19 3H5c-1.1 0-2 .9-2 2v14c0 1.1.9 2 2 2h14c1.1 0 2-.9 2-2V5c0-1.1-.9-2-2-2zM9 17H7v-7h2v7zm4 0h-2V7h2v10zm4 0h-2v-4h2v4z\"/>\n",
       "    </g>\n",
       "</svg>\n",
       "  </button>\n",
       "\n",
       "<style>\n",
       "  .colab-df-quickchart {\n",
       "      --bg-color: #E8F0FE;\n",
       "      --fill-color: #1967D2;\n",
       "      --hover-bg-color: #E2EBFA;\n",
       "      --hover-fill-color: #174EA6;\n",
       "      --disabled-fill-color: #AAA;\n",
       "      --disabled-bg-color: #DDD;\n",
       "  }\n",
       "\n",
       "  [theme=dark] .colab-df-quickchart {\n",
       "      --bg-color: #3B4455;\n",
       "      --fill-color: #D2E3FC;\n",
       "      --hover-bg-color: #434B5C;\n",
       "      --hover-fill-color: #FFFFFF;\n",
       "      --disabled-bg-color: #3B4455;\n",
       "      --disabled-fill-color: #666;\n",
       "  }\n",
       "\n",
       "  .colab-df-quickchart {\n",
       "    background-color: var(--bg-color);\n",
       "    border: none;\n",
       "    border-radius: 50%;\n",
       "    cursor: pointer;\n",
       "    display: none;\n",
       "    fill: var(--fill-color);\n",
       "    height: 32px;\n",
       "    padding: 0;\n",
       "    width: 32px;\n",
       "  }\n",
       "\n",
       "  .colab-df-quickchart:hover {\n",
       "    background-color: var(--hover-bg-color);\n",
       "    box-shadow: 0 1px 2px rgba(60, 64, 67, 0.3), 0 1px 3px 1px rgba(60, 64, 67, 0.15);\n",
       "    fill: var(--button-hover-fill-color);\n",
       "  }\n",
       "\n",
       "  .colab-df-quickchart-complete:disabled,\n",
       "  .colab-df-quickchart-complete:disabled:hover {\n",
       "    background-color: var(--disabled-bg-color);\n",
       "    fill: var(--disabled-fill-color);\n",
       "    box-shadow: none;\n",
       "  }\n",
       "\n",
       "  .colab-df-spinner {\n",
       "    border: 2px solid var(--fill-color);\n",
       "    border-color: transparent;\n",
       "    border-bottom-color: var(--fill-color);\n",
       "    animation:\n",
       "      spin 1s steps(1) infinite;\n",
       "  }\n",
       "\n",
       "  @keyframes spin {\n",
       "    0% {\n",
       "      border-color: transparent;\n",
       "      border-bottom-color: var(--fill-color);\n",
       "      border-left-color: var(--fill-color);\n",
       "    }\n",
       "    20% {\n",
       "      border-color: transparent;\n",
       "      border-left-color: var(--fill-color);\n",
       "      border-top-color: var(--fill-color);\n",
       "    }\n",
       "    30% {\n",
       "      border-color: transparent;\n",
       "      border-left-color: var(--fill-color);\n",
       "      border-top-color: var(--fill-color);\n",
       "      border-right-color: var(--fill-color);\n",
       "    }\n",
       "    40% {\n",
       "      border-color: transparent;\n",
       "      border-right-color: var(--fill-color);\n",
       "      border-top-color: var(--fill-color);\n",
       "    }\n",
       "    60% {\n",
       "      border-color: transparent;\n",
       "      border-right-color: var(--fill-color);\n",
       "    }\n",
       "    80% {\n",
       "      border-color: transparent;\n",
       "      border-right-color: var(--fill-color);\n",
       "      border-bottom-color: var(--fill-color);\n",
       "    }\n",
       "    90% {\n",
       "      border-color: transparent;\n",
       "      border-bottom-color: var(--fill-color);\n",
       "    }\n",
       "  }\n",
       "</style>\n",
       "\n",
       "  <script>\n",
       "    async function quickchart(key) {\n",
       "      const quickchartButtonEl =\n",
       "        document.querySelector('#' + key + ' button');\n",
       "      quickchartButtonEl.disabled = true;  // To prevent multiple clicks.\n",
       "      quickchartButtonEl.classList.add('colab-df-spinner');\n",
       "      try {\n",
       "        const charts = await google.colab.kernel.invokeFunction(\n",
       "            'suggestCharts', [key], {});\n",
       "      } catch (error) {\n",
       "        console.error('Error during call to suggestCharts:', error);\n",
       "      }\n",
       "      quickchartButtonEl.classList.remove('colab-df-spinner');\n",
       "      quickchartButtonEl.classList.add('colab-df-quickchart-complete');\n",
       "    }\n",
       "    (() => {\n",
       "      let quickchartButtonEl =\n",
       "        document.querySelector('#df-fd76bc8f-0a51-4d7d-b66a-d752072c9c77 button');\n",
       "      quickchartButtonEl.style.display =\n",
       "        google.colab.kernel.accessAllowed ? 'block' : 'none';\n",
       "    })();\n",
       "  </script>\n",
       "</div>\n",
       "\n",
       "    </div>\n",
       "  </div>\n"
      ],
      "text/plain": [
       "   Store  Dept       Date  Year  Month  Day  IsHoliday  IsHoliday_False  \\\n",
       "0      1     1 2010-02-05  2010      2    5          0                1   \n",
       "1      1     1 2010-02-12  2010      2   12          1                0   \n",
       "2      1     1 2010-02-19  2010      2   19          0                1   \n",
       "3      1     1 2010-02-26  2010      2   26          0                1   \n",
       "4      1     1 2010-03-05  2010      3    5          0                1   \n",
       "\n",
       "   IsHoliday_True  Temperature         CPI  Unemployment    Size  Weekly_Sales  \n",
       "0               0        42.31  211.096358         8.106  151315      24924.50  \n",
       "1               1        38.51  211.242170         8.106  151315      46039.49  \n",
       "2               0        39.93  211.289143         8.106  151315      41595.55  \n",
       "3               0        46.63  211.319643         8.106  151315      19403.54  \n",
       "4               0        46.50  211.350143         8.106  151315      21827.90  "
      ]
     },
     "execution_count": 4,
     "metadata": {},
     "output_type": "execute_result"
    }
   ],
   "source": [
    "# Path: dataw/cleaned.csv\n",
    "\n",
    "# --------- Comment Out One Line Below --------- #\n",
    "# data = pd.read_csv(\"azureml://\")  # For Azure\n",
    "# data = pd.read_csv(\"/content/drive/MyDrive/Colab Notebooks/dataw/cleaned.csv\")  # For Google Colab\n",
    "data = pd.read_csv(\"dataw/cleaned.csv\")   # For Local PC\n",
    "# --------- Comment Out One Line Above --------- #\n",
    "\n",
    "# Convert 'Date' to datetime\n",
    "data['Date'] = pd.to_datetime(data['Date'])\n",
    "\n",
    "# Drop extra column\n",
    "data = data.drop(\"Unnamed: 0\", axis=1)\n",
    "data.head()"
   ]
  },
  {
   "cell_type": "code",
   "execution_count": 5,
   "id": "f16670c5-edbb-4d2f-b961-a5555471ce40",
   "metadata": {
    "colab": {
     "base_uri": "https://localhost:8080/"
    },
    "id": "f16670c5-edbb-4d2f-b961-a5555471ce40",
    "outputId": "8e740b7a-0183-4dfc-a002-147da91b6a49"
   },
   "outputs": [
    {
     "name": "stdout",
     "output_type": "stream",
     "text": [
      "Number of Unique Stores: 45\n",
      "Number of Unique Dates: 143\n",
      "Number of Unique Sizes: 40\n"
     ]
    }
   ],
   "source": [
    "# Check how many stores\n",
    "unq_store = len(data[\"Store\"].unique())\n",
    "print(f\"Number of Unique Stores: {unq_store}\")\n",
    "\n",
    "# Check how many days\n",
    "unq_date = len(data[\"Date\"].unique())\n",
    "print(f\"Number of Unique Dates: {unq_date}\")\n",
    "\n",
    "# Check how many sizes\n",
    "unq_size = len(data[\"Size\"].unique())\n",
    "print(f\"Number of Unique Sizes: {unq_size}\")"
   ]
  },
  {
   "cell_type": "code",
   "execution_count": 6,
   "id": "ae4ca3bc-a358-49df-a8f5-f8ca94b774ef",
   "metadata": {
    "colab": {
     "base_uri": "https://localhost:8080/"
    },
    "id": "ae4ca3bc-a358-49df-a8f5-f8ca94b774ef",
    "outputId": "7e7c1e4d-427f-4506-9ae4-e199848265b9"
   },
   "outputs": [
    {
     "name": "stdout",
     "output_type": "stream",
     "text": [
      "For Store 1, there are 77 Departments.\n",
      "For Store 2, there are 78 Departments.\n",
      "For Store 3, there are 72 Departments.\n",
      "For Store 4, there are 78 Departments.\n",
      "For Store 5, there are 72 Departments.\n",
      "For Store 6, there are 77 Departments.\n",
      "For Store 7, there are 76 Departments.\n",
      "For Store 8, there are 76 Departments.\n",
      "For Store 9, there are 73 Departments.\n",
      "For Store 10, there are 77 Departments.\n",
      "For Store 11, there are 78 Departments.\n",
      "For Store 12, there are 71 Departments.\n",
      "For Store 13, there are 79 Departments.\n",
      "For Store 14, there are 77 Departments.\n",
      "For Store 15, there are 79 Departments.\n",
      "For Store 16, there are 76 Departments.\n",
      "For Store 17, there are 76 Departments.\n",
      "For Store 18, there are 78 Departments.\n",
      "For Store 19, there are 79 Departments.\n",
      "For Store 20, there are 78 Departments.\n",
      "For Store 21, there are 77 Departments.\n",
      "For Store 22, there are 76 Departments.\n",
      "For Store 23, there are 76 Departments.\n",
      "For Store 24, there are 77 Departments.\n",
      "For Store 25, there are 77 Departments.\n",
      "For Store 26, there are 76 Departments.\n",
      "For Store 27, there are 78 Departments.\n",
      "For Store 28, there are 72 Departments.\n",
      "For Store 29, there are 77 Departments.\n",
      "For Store 30, there are 64 Departments.\n",
      "For Store 31, there are 76 Departments.\n",
      "For Store 32, there are 77 Departments.\n",
      "For Store 33, there are 63 Departments.\n",
      "For Store 34, there are 78 Departments.\n",
      "For Store 35, there are 74 Departments.\n",
      "For Store 36, there are 63 Departments.\n",
      "For Store 37, there are 62 Departments.\n",
      "For Store 38, there are 61 Departments.\n",
      "For Store 39, there are 75 Departments.\n",
      "For Store 40, there are 77 Departments.\n",
      "For Store 41, there are 77 Departments.\n",
      "For Store 42, there are 62 Departments.\n",
      "For Store 43, there are 61 Departments.\n",
      "For Store 44, there are 62 Departments.\n",
      "For Store 45, there are 74 Departments.\n",
      "-----------------\n",
      "Min number of Departments: 61, Max number of Departments: 79\n"
     ]
    }
   ],
   "source": [
    "# Check how many departments for each store\n",
    "n_dept_ls = []\n",
    "for i in range(1, unq_store+1):\n",
    "    n_dept = len(data[data[\"Store\"] == i].Dept.unique())\n",
    "    n_dept_ls.append(n_dept)\n",
    "    print(f\"For Store {i}, there are {n_dept} Departments.\")\n",
    "print(\"-----------------\")\n",
    "print(f\"Min number of Departments: {min(n_dept_ls)}, Max number of Departments: {max(n_dept_ls)}\")"
   ]
  },
  {
   "cell_type": "markdown",
   "id": "4e5495e6-711d-47f4-8139-fef0344233aa",
   "metadata": {
    "id": "4e5495e6-711d-47f4-8139-fef0344233aa"
   },
   "source": [
    "- The cleaned dataset contains 389387 records for different stores at different dates.\n",
    "- All features are in numerical datatype except the Date as datetime.\n",
    "- There are 14 predictors including date-related features as well as temperature, cpi, unemployment, and size.\n",
    "- There are 45 unique stores in 40 different sizes, and the records are distributed in 143 different weeks across 3 years.\n",
    "- Each store contains 61 to 79 departments.\n",
    "- The task is to predict the weekly sales with selected predictors."
   ]
  },
  {
   "cell_type": "markdown",
   "id": "b7f7aba7-60d9-48e1-b3c1-c99c68e7a66c",
   "metadata": {
    "id": "b7f7aba7-60d9-48e1-b3c1-c99c68e7a66c"
   },
   "source": [
    "### **2. Split Preprocessed data**\n",
    "\n",
    "\n",
    "---\n",
    "\n"
   ]
  },
  {
   "cell_type": "code",
   "execution_count": 7,
   "id": "379af8ee-3ed6-4afa-a6a3-7e8eae0e46b1",
   "metadata": {
    "id": "379af8ee-3ed6-4afa-a6a3-7e8eae0e46b1"
   },
   "outputs": [],
   "source": [
    "# Select which store and department here. If changed, re-run code chunk below.\n",
    "n_store = 17\n",
    "n_dept = 7"
   ]
  },
  {
   "cell_type": "code",
   "execution_count": 8,
   "id": "bd86319b-87ce-4951-921a-561bbd3be05a",
   "metadata": {
    "id": "bd86319b-87ce-4951-921a-561bbd3be05a"
   },
   "outputs": [],
   "source": [
    "# Split the train-test data in 90:10 ratio, so that there are 15 days for prediction.\n",
    "\n",
    "def split_df(n_store, n_dept, data=data, split_ratio=0.1):\n",
    "    \"\"\"Input the numbers of store and dept, extract the data from the full cleaned data and split train-test sets.\"\"\"\n",
    "\n",
    "    # Extract weekly sales of selected store and dept\n",
    "    df = data[(data['Store'] == n_store) & (data['Dept'] == n_dept)]\n",
    "\n",
    "    # Set date as index\n",
    "    df.set_index('Date', drop=True, inplace=True)\n",
    "\n",
    "    # Drop columns that will not be used\n",
    "    df = df.drop([\"Store\", \"Dept\", \"IsHoliday_False\", \"IsHoliday_True\", \"Size\"], axis=1)\n",
    "\n",
    "    # Get predictors and response\n",
    "    X = df.iloc[:, :-1]\n",
    "    y = df.iloc[:, -1]\n",
    "\n",
    "    # Create train-test split on the dataset\n",
    "    X_train, X_test, y_train, y_test = train_test_split(X, y, test_size=split_ratio, random_state=777, shuffle=False)\n",
    "\n",
    "    # Sort index\n",
    "    X_train.sort_index(inplace=True)\n",
    "    X_test.sort_index(inplace=True)\n",
    "    y_train.sort_index(inplace=True)\n",
    "    y_test.sort_index(inplace=True)\n",
    "\n",
    "    # Convert predictor Series to Dataframe\n",
    "    y_train = y_train.to_frame()\n",
    "    y_test = y_test.to_frame()\n",
    "\n",
    "    return n_store, n_dept, df, X_train, X_test, y_train, y_test"
   ]
  },
  {
   "cell_type": "code",
   "execution_count": 9,
   "id": "3147dfd9-07df-4dd3-8c5f-4029a92cc687",
   "metadata": {
    "colab": {
     "base_uri": "https://localhost:8080/"
    },
    "id": "3147dfd9-07df-4dd3-8c5f-4029a92cc687",
    "outputId": "86a319fb-596b-427e-9a57-31608b5dccc0"
   },
   "outputs": [
    {
     "name": "stdout",
     "output_type": "stream",
     "text": [
      "Store selected: 17\n",
      "Dept selected: 7\n",
      "df shape: (143, 8)\n",
      "X_train shape: (128, 7)\n",
      "y_train shape: (128, 1)\n",
      "X_test shape: (15, 7)\n",
      "y_test shape: (15, 1)\n"
     ]
    }
   ],
   "source": [
    "n_store, n_dept, df, X_train, X_test, y_train, y_test = split_df(n_store, n_dept)\n",
    "\n",
    "print(f\"Store selected: {n_store}\")\n",
    "print(f\"Dept selected: {n_dept}\")\n",
    "print(f\"df shape: {df.shape}\")\n",
    "print(f\"X_train shape: {X_train.shape}\")\n",
    "print(f\"y_train shape: {y_train.shape}\")\n",
    "print(f\"X_test shape: {X_test.shape}\")\n",
    "print(f\"y_test shape: {y_test.shape}\")"
   ]
  },
  {
   "cell_type": "markdown",
   "id": "iaII9NJ-fn8A",
   "metadata": {
    "id": "iaII9NJ-fn8A"
   },
   "source": [
    "### **3. Multiple Linear Regression**\n",
    "\n",
    "\n",
    "---\n",
    "\n"
   ]
  },
  {
   "cell_type": "markdown",
   "id": "dX19L5-gHFjX",
   "metadata": {
    "id": "dX19L5-gHFjX"
   },
   "source": [
    "#### **3.1. Feature Selection**"
   ]
  },
  {
   "cell_type": "markdown",
   "id": "o_UK6vJLz8ox",
   "metadata": {
    "id": "o_UK6vJLz8ox"
   },
   "source": [
    "Apply Recursive Feature Elimination (RFE) on multiple linear regression."
   ]
  },
  {
   "cell_type": "code",
   "execution_count": 10,
   "id": "Cn6pmB6T-xt0",
   "metadata": {
    "id": "Cn6pmB6T-xt0"
   },
   "outputs": [],
   "source": [
    "# Function of Symmetric Mean Absolute Percentage Error\n",
    "def smape(y_true, y_pred):\n",
    "    \"\"\"https://github.com/NZMSA/2024-Phase-2/blob/main/data-science/0.%20Resources/docs/evaluating-regression-models.md\"\"\"\n",
    "    # Ensure inputs are numpy arrays\n",
    "    y_true = np.array(y_true)\n",
    "    y_pred = np.array(y_pred)\n",
    "    # Calculate the numerator (absolute difference)\n",
    "    numerator = np.abs(y_true - y_pred)\n",
    "    # Calculate the denominator (average of absolute actual and predicted values)\n",
    "    denominator = (np.abs(y_true) + np.abs(y_pred)) / 2\n",
    "    # Calculate SMAPE\n",
    "    smape_value = np.mean(numerator / denominator) * 100\n",
    "    return smape_value"
   ]
  },
  {
   "cell_type": "code",
   "execution_count": 11,
   "id": "w_-S-wqi2RV4",
   "metadata": {
    "colab": {
     "base_uri": "https://localhost:8080/"
    },
    "id": "w_-S-wqi2RV4",
    "outputId": "fbfe73ce-b86d-4c4b-aef7-2af62d230105"
   },
   "outputs": [
    {
     "name": "stdout",
     "output_type": "stream",
     "text": [
      "Num Features: 1\n",
      "Top Features: ['Year']\n",
      "MAE: 3485.3111\n",
      "MAPE: 23.7725%\n",
      "SMAPE: 20.7973%\n",
      "MSE: 14954343.5305\n",
      "RMSE: 3867.0846\n",
      "R-Squared: 0.0053\n",
      "-----------------------------------------\n",
      "Num Features: 2\n",
      "Top Features: ['Year', 'CPI']\n",
      "MAE: 3547.6776\n",
      "MAPE: 23.9600%\n",
      "SMAPE: 21.0222%\n",
      "MSE: 17303945.5093\n",
      "RMSE: 4159.8011\n",
      "R-Squared: 0.1783\n",
      "-----------------------------------------\n",
      "Num Features: 3\n",
      "Top Features: ['Year', 'CPI', 'Unemployment']\n",
      "MAE: 5066.9731\n",
      "MAPE: 35.3303%\n",
      "SMAPE: 28.2148%\n",
      "MSE: 36061519.2009\n",
      "RMSE: 6005.1244\n",
      "R-Squared: 0.1816\n",
      "-----------------------------------------\n",
      "Num Features: 4\n",
      "Top Features: ['Year', 'IsHoliday', 'CPI', 'Unemployment']\n",
      "MAE: 5035.0428\n",
      "MAPE: 35.2171%\n",
      "SMAPE: 28.0099%\n",
      "MSE: 36145251.5922\n",
      "RMSE: 6012.0921\n",
      "R-Squared: 0.1892\n",
      "-----------------------------------------\n",
      "Num Features: 5\n",
      "Top Features: ['Year', 'Month', 'IsHoliday', 'CPI', 'Unemployment']\n",
      "MAE: 10596.1347\n",
      "MAPE: 72.1673%\n",
      "SMAPE: 50.1387%\n",
      "MSE: 132193490.4468\n",
      "RMSE: 11497.5428\n",
      "R-Squared: 0.2444\n",
      "-----------------------------------------\n",
      "Num Features: 6\n",
      "Top Features: ['Year', 'Month', 'Day', 'IsHoliday', 'CPI', 'Unemployment']\n",
      "MAE: 11245.6158\n",
      "MAPE: 76.5513%\n",
      "SMAPE: 52.3846%\n",
      "MSE: 147443198.7611\n",
      "RMSE: 12142.6191\n",
      "R-Squared: 0.2540\n",
      "-----------------------------------------\n",
      "Num Features: 7\n",
      "Top Features: ['Year', 'Month', 'Day', 'IsHoliday', 'Temperature', 'CPI', 'Unemployment']\n",
      "MAE: 12080.4895\n",
      "MAPE: 83.4152%\n",
      "SMAPE: 54.0393%\n",
      "MSE: 187975959.3837\n",
      "RMSE: 13710.4325\n",
      "R-Squared: 0.2820\n",
      "-----------------------------------------\n"
     ]
    }
   ],
   "source": [
    "# Initialize Recursive Feature Elimination by selecting the top N_ft features\n",
    "N_ft = 1\n",
    "\n",
    "while N_ft <= len(X_train.columns):\n",
    "    rfe_mlr = RFE(estimator=LinearRegression(), n_features_to_select=N_ft)\n",
    "\n",
    "    # Fit training dataset\n",
    "    rfe_mlr_fit = rfe_mlr.fit(X_train, y_train)\n",
    "\n",
    "    print(f\"Num Features: {N_ft}\")\n",
    "    # print(f\"Num Features: {rfe_mlr_fit.n_features_}\")\n",
    "    # print(f\"Features Selector: {rfe_mlr_fit.support_}\")\n",
    "    # print(f\"Feature Ranking: {rfe_mlr_fit.ranking_}\")\n",
    "\n",
    "    # Filter out the top N_ft features\n",
    "    X_train_rfe = X_train.loc[:, rfe_mlr_fit.support_.tolist()]\n",
    "    X_test_rfe = X_test.loc[:, rfe_mlr_fit.support_.tolist()]\n",
    "    print(f\"Top Features: {X_train_rfe.columns.to_list()}\")\n",
    "\n",
    "    # Fit and predict again\n",
    "    mlr_model_rfe = LinearRegression().fit(X_train_rfe, y_train)\n",
    "    y_train_pred_rfe = mlr_model_rfe.predict(X_train_rfe)\n",
    "    y_test_pred_rfe = mlr_model_rfe.predict(X_test_rfe)\n",
    "\n",
    "    # Evaluate model after RFE\n",
    "    # --------- Mean Absolute Error --------- #\n",
    "    mlr_mae_rfe = mean_absolute_error(y_test, y_test_pred_rfe)\n",
    "    print(f\"MAE: {mlr_mae_rfe:.4f}\")\n",
    "\n",
    "    # --------- Mean Absolute Percentage Error --------- #\n",
    "    mlr_mape_rfe = mean_absolute_percentage_error(y_test, y_test_pred_rfe) * 100\n",
    "    print(f\"MAPE: {mlr_mape_rfe:.4f}%\")\n",
    "\n",
    "    # --------- Symmetric Mean Absolute Percentage Error --------- #\n",
    "    mlr_smape_rfe = smape(y_test, y_test_pred_rfe)\n",
    "    print(f\"SMAPE: {mlr_smape_rfe:.4f}%\")\n",
    "\n",
    "    # --------- Mean Squared Error --------- #\n",
    "    mlr_mse_rfe = mean_squared_error(y_test, y_test_pred_rfe)\n",
    "    print(f\"MSE: {mlr_mse_rfe:.4f}\")\n",
    "\n",
    "    # --------- Root Mean Square Error --------- #\n",
    "    mlr_rmse_rfe = np.sqrt(mlr_mse_rfe)\n",
    "    print(f\"RMSE: {mlr_rmse_rfe:.4f}\")\n",
    "\n",
    "    # --------- R-Squared --------- #\n",
    "    mlr_r2_rfe = r2_score(y_train, y_train_pred_rfe)\n",
    "    print(f\"R-Squared: {mlr_r2_rfe:.4f}\")\n",
    "\n",
    "    print(f\"-----------------------------------------\")\n",
    "\n",
    "    N_ft += 1"
   ]
  },
  {
   "cell_type": "markdown",
   "id": "m9ib6ao097Vj",
   "metadata": {
    "id": "m9ib6ao097Vj"
   },
   "source": [
    "**Choose the number of features for best performance:** \\\n",
    "Considering the R-squared and the Errors, when the number of features are set to 3 or 4, the MAPE and SMAPE are around 35% and 28% respectively, while R-squared is below 0.2. When the number of features is 5, although the R-squared is larger than 0.2, the error rate increase significantly to >70% and >50%. Thus, I choose **4** as the number of features for multiple linear regression."
   ]
  },
  {
   "cell_type": "markdown",
   "id": "cb0a21e7-93ea-45c3-a4c1-63e7a2c8e53d",
   "metadata": {
    "id": "cb0a21e7-93ea-45c3-a4c1-63e7a2c8e53d"
   },
   "source": [
    "#### **3.2. Fit and Predict**\n",
    "\n",
    "\n",
    "---\n",
    "\n"
   ]
  },
  {
   "cell_type": "code",
   "execution_count": 12,
   "id": "yr8qwfLQJYdN",
   "metadata": {
    "id": "yr8qwfLQJYdN"
   },
   "outputs": [],
   "source": [
    "# Filter out the top features in last step\n",
    "X_train_opm = X_train[['Year', 'IsHoliday', 'CPI', 'Unemployment']]\n",
    "X_test_opm = X_test[['Year', 'IsHoliday', 'CPI', 'Unemployment']]\n",
    "\n",
    "# Fit a linear regression model on the training set\n",
    "mlr_model = LinearRegression().fit(X_train_opm, y_train)"
   ]
  },
  {
   "cell_type": "code",
   "execution_count": 13,
   "id": "dq7LcDK2VlbY",
   "metadata": {
    "colab": {
     "base_uri": "https://localhost:8080/"
    },
    "id": "dq7LcDK2VlbY",
    "outputId": "921d0e20-dd29-4d7b-91b7-715b70b792d6"
   },
   "outputs": [
    {
     "name": "stdout",
     "output_type": "stream",
     "text": [
      "Year: -19476.4345\n",
      "IsHoliday: 3723.5897\n",
      "CPI: 7939.2845\n",
      "Unemployment: -4053.2594\n",
      "Interceptor: 38191051.8778\n"
     ]
    }
   ],
   "source": [
    "# Coefficients\n",
    "cols_ls = X_train_opm.columns.to_list()\n",
    "for i in range(len(cols_ls)):\n",
    "    co_nm = cols_ls[i]\n",
    "    co_ef = mlr_model.coef_[:, i][0]\n",
    "    print(f\"{co_nm}: {co_ef:.4f}\")\n",
    "\n",
    "# Interceptor\n",
    "print(f\"Interceptor: {mlr_model.intercept_[0]:.4f}\")"
   ]
  },
  {
   "cell_type": "code",
   "execution_count": 14,
   "id": "Thty5fE3MgSn",
   "metadata": {
    "id": "Thty5fE3MgSn"
   },
   "outputs": [],
   "source": [
    "# Predict on train and test set\n",
    "y_train_pred = mlr_model.predict(X_train_opm)\n",
    "y_test_pred = mlr_model.predict(X_test_opm)"
   ]
  },
  {
   "cell_type": "code",
   "execution_count": 15,
   "id": "fs9z9fheZj77",
   "metadata": {
    "colab": {
     "base_uri": "https://localhost:8080/",
     "height": 314
    },
    "id": "fs9z9fheZj77",
    "outputId": "ec2ec005-414c-4b44-c49c-a87a2cce874b"
   },
   "outputs": [
    {
     "data": {
      "image/png": "[encoded data removed]",
      "text/plain": [
       "<Figure size 1500x500 with 1 Axes>"
      ]
     },
     "metadata": {},
     "output_type": "display_data"
    }
   ],
   "source": [
    "# Plot actual vs. predict results\n",
    "plt.figure(figsize=(15,5))\n",
    "axes = plt.axes()\n",
    "axes.plot(y_train.index, y_train, marker='o', label=\"Train Actual\")\n",
    "axes.plot(y_train.index, y_train_pred, marker='o', label=\"Train Predict\")\n",
    "axes.plot(y_test.index, y_test, marker='o', label=\"Test Actual\")\n",
    "axes.plot(y_test.index, y_test_pred, marker='o', label=\"Test Predict\")\n",
    "axes.legend()\n",
    "plt.show()"
   ]
  },
  {
   "cell_type": "code",
   "execution_count": 16,
   "id": "8ll_WU2kNZ8b",
   "metadata": {
    "colab": {
     "base_uri": "https://localhost:8080/"
    },
    "id": "8ll_WU2kNZ8b",
    "outputId": "f35ff721-4659-4669-db8f-4e44c2827889"
   },
   "outputs": [
    {
     "name": "stdout",
     "output_type": "stream",
     "text": [
      "MAE: 5035.0428\n",
      "MAPE: 35.2171%\n",
      "SMAPE: 28.0099%\n",
      "MSE: 36145251.5922\n",
      "RMSE: 6012.0921\n",
      "R-Squared: 0.1892\n"
     ]
    }
   ],
   "source": [
    "# Evaluate model\n",
    "\n",
    "mlr_mae = mean_absolute_error(y_test, y_test_pred)\n",
    "print(f\"MAE: {mlr_mae:.4f}\")\n",
    "\n",
    "mlr_mape = mean_absolute_percentage_error(y_test, y_test_pred) * 100\n",
    "print(f\"MAPE: {mlr_mape:.4f}%\")\n",
    "\n",
    "mlr_smape = smape(y_test, y_test_pred)\n",
    "print(f\"SMAPE: {mlr_smape:.4f}%\")\n",
    "\n",
    "mlr_mse = mean_squared_error(y_test, y_test_pred)\n",
    "print(f\"MSE: {mlr_mse:.4f}\")\n",
    "\n",
    "mlr_rmse = np.sqrt(mlr_mse)\n",
    "print(f\"RMSE: {mlr_rmse:.4f}\")\n",
    "\n",
    "mlr_r2 = r2_score(y_train, y_train_pred)\n",
    "print(f\"R-Squared: {mlr_r2:.4f}\")"
   ]
  },
  {
   "cell_type": "markdown",
   "id": "pTlKb6wsStpr",
   "metadata": {
    "id": "pTlKb6wsStpr"
   },
   "source": [
    "**Interpretation:**\n",
    "\n",
    "For the selected store 17 and department 7:\n",
    "\n",
    "- R-squared was about 0.1892, meaning only 18.92% of the variation of the response can be explained by the MLR model, suggesting poor performance of the MLR model on this dataset.\n",
    "- RMSE and MAE were quite large. For one reason, the weekly sales values are large numbers, even some relatively small amount of difference can cause large error. But since the model does not perform well, it is reasonable to see large errors.\n",
    "- MAPE and SMAPE are around 35% and 28% respectively, suggesting a high error rate.\n",
    "\n",
    "In conclusion, the linear model did not perform well. So, I will try other methods.\n",
    "\n",
    "The prediction result will be different if selecting different store and department. Change the n_store and n_dept at the beginning of section 2, then re-run all the code below to explore more.\n"
   ]
  },
  {
   "cell_type": "markdown",
   "id": "t8I6QAEW_aG1",
   "metadata": {
    "id": "t8I6QAEW_aG1"
   },
   "source": [
    "### **4. ARIMA**"
   ]
  },
  {
   "cell_type": "markdown",
   "id": "_kRbEoAkRV0u",
   "metadata": {
    "id": "_kRbEoAkRV0u"
   },
   "source": [
    "To perform ARIMA model, we need to extract the response features from the dataset."
   ]
  },
  {
   "cell_type": "code",
   "execution_count": 17,
   "id": "RXms9IQOK9Si",
   "metadata": {
    "colab": {
     "base_uri": "https://localhost:8080/"
    },
    "id": "RXms9IQOK9Si",
    "outputId": "2571dbb5-13ae-4add-8b52-bdfcca52f0fe"
   },
   "outputs": [
    {
     "name": "stdout",
     "output_type": "stream",
     "text": [
      "Train data shape: (128, 1)\n",
      "Test data shape: (15, 1)\n"
     ]
    }
   ],
   "source": [
    "# Extract weekly sales only\n",
    "df_ts = df[['Weekly_Sales']]\n",
    "\n",
    "# Split train-test in 90:10 ratio\n",
    "train_ts, test_ts = df_ts[0:int(len(df_ts)*0.9)], df_ts[int(len(df_ts)*0.9):]\n",
    "print(f\"Train data shape: {train_ts.shape}\")\n",
    "print(f\"Test data shape: {test_ts.shape}\")"
   ]
  },
  {
   "cell_type": "markdown",
   "id": "_J_CPvhFlJZs",
   "metadata": {
    "id": "_J_CPvhFlJZs"
   },
   "source": [
    "#### **4.1. Perform Augmented Dickey-Fuller test**"
   ]
  },
  {
   "cell_type": "markdown",
   "id": "I9ICMBVwWSNC",
   "metadata": {
    "id": "I9ICMBVwWSNC"
   },
   "source": [
    "ref: https://developer.ibm.com/tutorials/awb-arima-models-in-python/#step-6-train-the-arima-model7 \\\n",
    "Assuming the null hypothesis be the dataset is non-stationary."
   ]
  },
  {
   "cell_type": "code",
   "execution_count": 18,
   "id": "mPllz00rFgGZ",
   "metadata": {
    "colab": {
     "base_uri": "https://localhost:8080/"
    },
    "id": "mPllz00rFgGZ",
    "outputId": "489f4549-0787-4289-b64c-87a743a62443"
   },
   "outputs": [
    {
     "name": "stdout",
     "output_type": "stream",
     "text": [
      "p-value: 4.5068692987772497e-07\n"
     ]
    }
   ],
   "source": [
    "#\n",
    "adf_result = adfuller(df_ts)\n",
    "print(f'p-value: {adf_result[1]}')"
   ]
  },
  {
   "cell_type": "markdown",
   "id": "zdKkIojcGzhb",
   "metadata": {
    "id": "zdKkIojcGzhb"
   },
   "source": [
    "Since p-value < 0.05, the null hypothesis could be rejected. \\\n",
    "Thus, it suggests that the data is stationary. In ARIMA, d order can be set as 0.\n"
   ]
  },
  {
   "cell_type": "markdown",
   "id": "zj0dnH7oNyjO",
   "metadata": {
    "id": "zj0dnH7oNyjO"
   },
   "source": [
    "#### **4.2. Perform Auto ARIMA for hyperparameter tuning**"
   ]
  },
  {
   "cell_type": "markdown",
   "id": "6MrcPTN-h995",
   "metadata": {
    "id": "6MrcPTN-h995"
   },
   "source": [
    "ref: https://blog.devgenius.io/finding-optimal-p-d-and-q-values-for-your-arima-model-94669a909a35"
   ]
  },
  {
   "cell_type": "code",
   "execution_count": 19,
   "id": "VauN0sR-NdJk",
   "metadata": {
    "colab": {
     "base_uri": "https://localhost:8080/"
    },
    "id": "VauN0sR-NdJk",
    "outputId": "6f8386c4-6caf-48f6-baef-55f98392ad2e"
   },
   "outputs": [
    {
     "name": "stdout",
     "output_type": "stream",
     "text": [
      "Performing stepwise search to minimize aic\n",
      " ARIMA(1,0,1)(0,0,0)[0] intercept   : AIC=2702.712, Time=0.25 sec\n",
      " ARIMA(0,0,0)(0,0,0)[0] intercept   : AIC=2744.693, Time=0.15 sec\n",
      " ARIMA(1,0,0)(0,0,0)[0] intercept   : AIC=2700.707, Time=0.23 sec\n",
      " ARIMA(0,0,1)(0,0,0)[0] intercept   : AIC=2714.767, Time=0.29 sec\n",
      " ARIMA(0,0,0)(0,0,0)[0]             : AIC=2932.181, Time=0.08 sec\n",
      " ARIMA(2,0,0)(0,0,0)[0] intercept   : AIC=2702.674, Time=0.23 sec\n",
      " ARIMA(2,0,1)(0,0,0)[0] intercept   : AIC=2704.691, Time=0.51 sec\n",
      " ARIMA(1,0,0)(0,0,0)[0]             : AIC=2726.033, Time=0.22 sec\n",
      "\n",
      "Best model:  ARIMA(1,0,0)(0,0,0)[0] intercept\n",
      "Total fit time: 1.980 seconds\n"
     ]
    }
   ],
   "source": [
    "model = auto_arima(train_ts['Weekly_Sales'], start_p=1, start_q=1,\n",
    "                      test='adf',\n",
    "                      max_p=5, max_q=5,\n",
    "                      m=1,\n",
    "                      d=0,   # data is already stationary.\n",
    "                      start_P=0,\n",
    "                      D=None,\n",
    "                      trace=True,\n",
    "                      error_action='ignore',\n",
    "                      suppress_warnings=True,\n",
    "                      stepwise=True)"
   ]
  },
  {
   "cell_type": "markdown",
   "id": "jBgOU8dkrkIg",
   "metadata": {
    "id": "jBgOU8dkrkIg"
   },
   "source": [
    "#### **4.3. Fit and Predict with ARIMA model**"
   ]
  },
  {
   "cell_type": "markdown",
   "id": "cJIETAXniCdS",
   "metadata": {
    "id": "cJIETAXniCdS"
   },
   "source": [
    "ref: https://developer.ibm.com/tutorials/awb-arima-models-in-python/#step-6-train-the-arima-model7"
   ]
  },
  {
   "cell_type": "code",
   "execution_count": 20,
   "id": "Qn15WXdFTWOi",
   "metadata": {
    "id": "Qn15WXdFTWOi"
   },
   "outputs": [],
   "source": [
    "def build_arima(train_ts, test_ts, order=(1,0,0)):\n",
    "    # Initialize variables\n",
    "    # history sales\n",
    "    y_train_ts = train_ts[\"Weekly_Sales\"].tolist()\n",
    "    # actual sales\n",
    "    y_test_ts = test_ts[\"Weekly_Sales\"].tolist()\n",
    "    # predicted sales\n",
    "    y_pred_ts = []\n",
    "\n",
    "    for i in range(0, len(y_test_ts)):\n",
    "        # predict\n",
    "        # Try 0, 1, 2 for d order, it turns out set d as 2 could lead to the least error in result.\n",
    "        arima_model = ARIMA(y_train_ts, order=order).fit()\n",
    "        yhat = arima_model.forecast()[0]\n",
    "        # invert transformed prediction\n",
    "        y_pred_ts.append(yhat)\n",
    "        # observation\n",
    "        obs = y_test_ts[i]\n",
    "        y_train_ts.append(obs)\n",
    "\n",
    "    return y_test_ts, y_pred_ts\n",
    "\n",
    "y_test_ts, y_pred_ts = build_arima(train_ts, test_ts, order=(1,0,0))"
   ]
  },
  {
   "cell_type": "code",
   "execution_count": 21,
   "id": "IhdEeBdAcSyJ",
   "metadata": {
    "colab": {
     "base_uri": "https://localhost:8080/",
     "height": 382
    },
    "id": "IhdEeBdAcSyJ",
    "outputId": "34e88855-e39b-4f49-8128-b1bd16fb280e"
   },
   "outputs": [
    {
     "data": {
      "image/png": "[encoded data removed]",
      "text/plain": [
       "<Figure size 1200x500 with 1 Axes>"
      ]
     },
     "metadata": {},
     "output_type": "display_data"
    }
   ],
   "source": [
    "# Plot actual vs. predicted test data\n",
    "plt.figure(figsize=(12,5))\n",
    "axes = plt.axes()\n",
    "axes.plot(test_ts.index, y_test_ts, marker='o', color='orange', label='Actual')\n",
    "axes.plot(test_ts.index, y_pred_ts, marker='o', color='green', label='Prediction')\n",
    "axes.legend()\n",
    "plt.show()"
   ]
  },
  {
   "cell_type": "code",
   "execution_count": 22,
   "id": "qn9pEm_FhJ5h",
   "metadata": {
    "colab": {
     "base_uri": "https://localhost:8080/",
     "height": 382
    },
    "id": "qn9pEm_FhJ5h",
    "outputId": "bce3129f-2f6b-4bf9-e52e-5850c5c9295c"
   },
   "outputs": [
    {
     "data": {
      "image/png": "[encoded data removed]",
      "text/plain": [
       "<Figure size 1200x500 with 1 Axes>"
      ]
     },
     "metadata": {},
     "output_type": "display_data"
    }
   ],
   "source": [
    "# Plot training (history), test (actual), and predicted data\n",
    "plt.figure(figsize=(12,5))\n",
    "axes = plt.axes()\n",
    "axes.plot(train_ts.index, train_ts.iloc[:, 0], marker='o', label='History')\n",
    "axes.plot(test_ts.index, y_test_ts, marker='o', color='orange', label='Actual')\n",
    "axes.plot(test_ts.index, y_pred_ts, marker='o', color='green', label='Prediction')\n",
    "axes.legend()\n",
    "plt.show()"
   ]
  },
  {
   "cell_type": "code",
   "execution_count": 23,
   "id": "_UH6wxLUcaPE",
   "metadata": {
    "colab": {
     "base_uri": "https://localhost:8080/"
    },
    "id": "_UH6wxLUcaPE",
    "outputId": "3ed1104a-36b8-4d7f-ea7f-b4731dce238e"
   },
   "outputs": [
    {
     "name": "stdout",
     "output_type": "stream",
     "text": [
      "MAE: 2893.4832\n",
      "MAPE: 18.9203%\n",
      "SMAPE: 17.4038%\n",
      "MSE: 10495505.2151\n",
      "RMSE: 3239.6767\n"
     ]
    }
   ],
   "source": [
    "# Evaluate model\n",
    "\n",
    "arima_mae = mean_absolute_error(y_test_ts, y_pred_ts)\n",
    "print(f\"MAE: {arima_mae:.4f}\")\n",
    "\n",
    "arima_mape = mean_absolute_percentage_error(y_test_ts, y_pred_ts) * 100\n",
    "print(f\"MAPE: {arima_mape:.4f}%\")\n",
    "\n",
    "arima_smape = smape(y_test_ts, y_pred_ts)\n",
    "print(f\"SMAPE: {arima_smape:.4f}%\")\n",
    "\n",
    "arima_mse = mean_squared_error(y_test_ts, y_pred_ts)\n",
    "print(f\"MSE: {arima_mse:.4f}\")\n",
    "\n",
    "arima_rmse = np.sqrt(arima_mse)\n",
    "print(f\"RMSE: {arima_rmse:.4f}\")"
   ]
  },
  {
   "cell_type": "markdown",
   "id": "qxsY3HBygmmT",
   "metadata": {
    "id": "qxsY3HBygmmT"
   },
   "source": [
    "MAE, MSE, RMSE are large numbers because the weekly sales values are large. \\\n",
    "MAPE and SMAPE suggests the model have error rate about 18%, significantly lower than linear regression."
   ]
  },
  {
   "cell_type": "markdown",
   "id": "Tv6dLOL2chV2",
   "metadata": {
    "id": "Tv6dLOL2chV2"
   },
   "source": [
    "#### **4.4. Another method of hyperparameter tuning: Cross Validation**"
   ]
  },
  {
   "cell_type": "markdown",
   "id": "JwIte2it1FWu",
   "metadata": {
    "id": "JwIte2it1FWu"
   },
   "source": [
    "In previous step, I use auto arima and its build-in metric AIC to choose the best order (p, q, d) for ARIMA model. In this section, I will use Cross Validation to choose (p, q, d). I would like to see if the result would be same."
   ]
  },
  {
   "cell_type": "code",
   "execution_count": 24,
   "id": "QzfdZ5ax06i_",
   "metadata": {
    "colab": {
     "base_uri": "https://localhost:8080/"
    },
    "id": "QzfdZ5ax06i_",
    "outputId": "f65741e7-b286-4cf7-f646-a8996629e12d"
   },
   "outputs": [
    {
     "name": "stdout",
     "output_type": "stream",
     "text": [
      "Total number of combinations: 48\n"
     ]
    }
   ],
   "source": [
    "# Assuming p and q are within [0, 1, 2, 3] and d is within [0, 1, 2]\n",
    "# Generate all possible combinations\n",
    "ps = [0, 1, 2, 3]\n",
    "ds = [0, 1, 2]\n",
    "qs = [0, 1, 2, 3]\n",
    "\n",
    "combos = []\n",
    "\n",
    "for p in ps:\n",
    "    for d in ds:\n",
    "        for q in qs:\n",
    "            combos.append((p, d, q))\n",
    "print(f\"Total number of combinations: {len(combos)}\")"
   ]
  },
  {
   "cell_type": "code",
   "execution_count": 25,
   "id": "HWNUBw8R27Mt",
   "metadata": {
    "colab": {
     "base_uri": "https://localhost:8080/",
     "height": 1000
    },
    "id": "HWNUBw8R27Mt",
    "outputId": "879604b9-81d0-4e1e-beae-d0d32a13725f"
   },
   "outputs": [
    {
     "data": {
      "application/vnd.google.colaboratory.intrinsic+json": {
       "summary": "{\n  \"name\": \"average_mape_df\",\n  \"rows\": 48,\n  \"fields\": [\n    {\n      \"column\": \"combo\",\n      \"properties\": {\n        \"dtype\": \"string\",\n        \"num_unique_values\": 48,\n        \"samples\": [\n          [\n            2,\n            0,\n            3\n          ],\n          [\n            3,\n            1,\n            0\n          ],\n          [\n            2,\n            0,\n            2\n          ]\n        ],\n        \"semantic_type\": \"\",\n        \"description\": \"\"\n      }\n    },\n    {\n      \"column\": \"avg_mape\",\n      \"properties\": {\n        \"dtype\": \"number\",\n        \"std\": 78.66954827364414,\n        \"min\": 30.88167795009415,\n        \"max\": 362.4407791807523,\n        \"num_unique_values\": 48,\n        \"samples\": [\n          34.4508391122321,\n          54.20256272167641,\n          38.72826384087897\n        ],\n        \"semantic_type\": \"\",\n        \"description\": \"\"\n      }\n    }\n  ]\n}",
       "type": "dataframe",
       "variable_name": "average_mape_df"
      },
      "text/html": [
       "\n",
       "  <div id=\"df-781abe01-d7ac-4866-ad93-2eee54b1a118\" class=\"colab-df-container\">\n",
       "    <div>\n",
       "<style scoped>\n",
       "    .dataframe tbody tr th:only-of-type {\n",
       "        vertical-align: middle;\n",
       "    }\n",
       "\n",
       "    .dataframe tbody tr th {\n",
       "        vertical-align: top;\n",
       "    }\n",
       "\n",
       "    .dataframe thead th {\n",
       "        text-align: right;\n",
       "    }\n",
       "</style>\n",
       "<table border=\"1\" class=\"dataframe\">\n",
       "  <thead>\n",
       "    <tr style=\"text-align: right;\">\n",
       "      <th></th>\n",
       "      <th>combo</th>\n",
       "      <th>avg_mape</th>\n",
       "    </tr>\n",
       "  </thead>\n",
       "  <tbody>\n",
       "    <tr>\n",
       "      <th>0</th>\n",
       "      <td>(0, 0, 0)</td>\n",
       "      <td>36.364153</td>\n",
       "    </tr>\n",
       "    <tr>\n",
       "      <th>1</th>\n",
       "      <td>(0, 0, 1)</td>\n",
       "      <td>35.836103</td>\n",
       "    </tr>\n",
       "    <tr>\n",
       "      <th>2</th>\n",
       "      <td>(0, 0, 2)</td>\n",
       "      <td>35.200416</td>\n",
       "    </tr>\n",
       "    <tr>\n",
       "      <th>3</th>\n",
       "      <td>(0, 0, 3)</td>\n",
       "      <td>36.088199</td>\n",
       "    </tr>\n",
       "    <tr>\n",
       "      <th>4</th>\n",
       "      <td>(0, 1, 0)</td>\n",
       "      <td>58.662106</td>\n",
       "    </tr>\n",
       "    <tr>\n",
       "      <th>5</th>\n",
       "      <td>(0, 1, 1)</td>\n",
       "      <td>54.261608</td>\n",
       "    </tr>\n",
       "    <tr>\n",
       "      <th>6</th>\n",
       "      <td>(0, 1, 2)</td>\n",
       "      <td>51.930196</td>\n",
       "    </tr>\n",
       "    <tr>\n",
       "      <th>7</th>\n",
       "      <td>(0, 1, 3)</td>\n",
       "      <td>34.594611</td>\n",
       "    </tr>\n",
       "    <tr>\n",
       "      <th>8</th>\n",
       "      <td>(0, 2, 0)</td>\n",
       "      <td>261.700684</td>\n",
       "    </tr>\n",
       "    <tr>\n",
       "      <th>9</th>\n",
       "      <td>(0, 2, 1)</td>\n",
       "      <td>69.588529</td>\n",
       "    </tr>\n",
       "    <tr>\n",
       "      <th>10</th>\n",
       "      <td>(0, 2, 2)</td>\n",
       "      <td>77.645635</td>\n",
       "    </tr>\n",
       "    <tr>\n",
       "      <th>11</th>\n",
       "      <td>(0, 2, 3)</td>\n",
       "      <td>79.815368</td>\n",
       "    </tr>\n",
       "    <tr>\n",
       "      <th>12</th>\n",
       "      <td>(1, 0, 0)</td>\n",
       "      <td>34.769050</td>\n",
       "    </tr>\n",
       "    <tr>\n",
       "      <th>13</th>\n",
       "      <td>(1, 0, 1)</td>\n",
       "      <td>34.910799</td>\n",
       "    </tr>\n",
       "    <tr>\n",
       "      <th>14</th>\n",
       "      <td>(1, 0, 2)</td>\n",
       "      <td>34.882528</td>\n",
       "    </tr>\n",
       "    <tr>\n",
       "      <th>15</th>\n",
       "      <td>(1, 0, 3)</td>\n",
       "      <td>34.942585</td>\n",
       "    </tr>\n",
       "    <tr>\n",
       "      <th>16</th>\n",
       "      <td>(1, 1, 0)</td>\n",
       "      <td>55.700550</td>\n",
       "    </tr>\n",
       "    <tr>\n",
       "      <th>17</th>\n",
       "      <td>(1, 1, 1)</td>\n",
       "      <td>32.624136</td>\n",
       "    </tr>\n",
       "    <tr>\n",
       "      <th>18</th>\n",
       "      <td>(1, 1, 2)</td>\n",
       "      <td>53.832252</td>\n",
       "    </tr>\n",
       "    <tr>\n",
       "      <th>19</th>\n",
       "      <td>(1, 1, 3)</td>\n",
       "      <td>35.541810</td>\n",
       "    </tr>\n",
       "    <tr>\n",
       "      <th>20</th>\n",
       "      <td>(1, 2, 0)</td>\n",
       "      <td>234.536131</td>\n",
       "    </tr>\n",
       "    <tr>\n",
       "      <th>21</th>\n",
       "      <td>(1, 2, 1)</td>\n",
       "      <td>64.669843</td>\n",
       "    </tr>\n",
       "    <tr>\n",
       "      <th>22</th>\n",
       "      <td>(1, 2, 2)</td>\n",
       "      <td>69.337830</td>\n",
       "    </tr>\n",
       "    <tr>\n",
       "      <th>23</th>\n",
       "      <td>(1, 2, 3)</td>\n",
       "      <td>69.383444</td>\n",
       "    </tr>\n",
       "    <tr>\n",
       "      <th>24</th>\n",
       "      <td>(2, 0, 0)</td>\n",
       "      <td>34.890855</td>\n",
       "    </tr>\n",
       "    <tr>\n",
       "      <th>25</th>\n",
       "      <td>(2, 0, 1)</td>\n",
       "      <td>34.497624</td>\n",
       "    </tr>\n",
       "    <tr>\n",
       "      <th>26</th>\n",
       "      <td>(2, 0, 2)</td>\n",
       "      <td>38.728264</td>\n",
       "    </tr>\n",
       "    <tr>\n",
       "      <th>27</th>\n",
       "      <td>(2, 0, 3)</td>\n",
       "      <td>34.450839</td>\n",
       "    </tr>\n",
       "    <tr>\n",
       "      <th>28</th>\n",
       "      <td>(2, 1, 0)</td>\n",
       "      <td>57.824546</td>\n",
       "    </tr>\n",
       "    <tr>\n",
       "      <th>29</th>\n",
       "      <td>(2, 1, 1)</td>\n",
       "      <td>32.773074</td>\n",
       "    </tr>\n",
       "    <tr>\n",
       "      <th>30</th>\n",
       "      <td>(2, 1, 2)</td>\n",
       "      <td>32.238638</td>\n",
       "    </tr>\n",
       "    <tr>\n",
       "      <th>31</th>\n",
       "      <td>(2, 1, 3)</td>\n",
       "      <td>51.546060</td>\n",
       "    </tr>\n",
       "    <tr>\n",
       "      <th>32</th>\n",
       "      <td>(2, 2, 0)</td>\n",
       "      <td>156.846278</td>\n",
       "    </tr>\n",
       "    <tr>\n",
       "      <th>33</th>\n",
       "      <td>(2, 2, 1)</td>\n",
       "      <td>70.747578</td>\n",
       "    </tr>\n",
       "    <tr>\n",
       "      <th>34</th>\n",
       "      <td>(2, 2, 2)</td>\n",
       "      <td>69.630309</td>\n",
       "    </tr>\n",
       "    <tr>\n",
       "      <th>35</th>\n",
       "      <td>(2, 2, 3)</td>\n",
       "      <td>57.344403</td>\n",
       "    </tr>\n",
       "    <tr>\n",
       "      <th>36</th>\n",
       "      <td>(3, 0, 0)</td>\n",
       "      <td>34.848317</td>\n",
       "    </tr>\n",
       "    <tr>\n",
       "      <th>37</th>\n",
       "      <td>(3, 0, 1)</td>\n",
       "      <td>34.699123</td>\n",
       "    </tr>\n",
       "    <tr>\n",
       "      <th>38</th>\n",
       "      <td>(3, 0, 2)</td>\n",
       "      <td>30.881678</td>\n",
       "    </tr>\n",
       "    <tr>\n",
       "      <th>39</th>\n",
       "      <td>(3, 0, 3)</td>\n",
       "      <td>34.091631</td>\n",
       "    </tr>\n",
       "    <tr>\n",
       "      <th>40</th>\n",
       "      <td>(3, 1, 0)</td>\n",
       "      <td>54.202563</td>\n",
       "    </tr>\n",
       "    <tr>\n",
       "      <th>41</th>\n",
       "      <td>(3, 1, 1)</td>\n",
       "      <td>60.538142</td>\n",
       "    </tr>\n",
       "    <tr>\n",
       "      <th>42</th>\n",
       "      <td>(3, 1, 2)</td>\n",
       "      <td>63.935948</td>\n",
       "    </tr>\n",
       "    <tr>\n",
       "      <th>43</th>\n",
       "      <td>(3, 1, 3)</td>\n",
       "      <td>51.365207</td>\n",
       "    </tr>\n",
       "    <tr>\n",
       "      <th>44</th>\n",
       "      <td>(3, 2, 0)</td>\n",
       "      <td>362.440779</td>\n",
       "    </tr>\n",
       "    <tr>\n",
       "      <th>45</th>\n",
       "      <td>(3, 2, 1)</td>\n",
       "      <td>68.387950</td>\n",
       "    </tr>\n",
       "    <tr>\n",
       "      <th>46</th>\n",
       "      <td>(3, 2, 2)</td>\n",
       "      <td>301.057628</td>\n",
       "    </tr>\n",
       "    <tr>\n",
       "      <th>47</th>\n",
       "      <td>(3, 2, 3)</td>\n",
       "      <td>301.130710</td>\n",
       "    </tr>\n",
       "  </tbody>\n",
       "</table>\n",
       "</div>\n",
       "    <div class=\"colab-df-buttons\">\n",
       "\n",
       "  <div class=\"colab-df-container\">\n",
       "    <button class=\"colab-df-convert\" onclick=\"convertToInteractive('df-781abe01-d7ac-4866-ad93-2eee54b1a118')\"\n",
       "            title=\"Convert this dataframe to an interactive table.\"\n",
       "            style=\"display:none;\">\n",
       "\n",
       "  <svg xmlns=\"http://www.w3.org/2000/svg\" height=\"24px\" viewBox=\"0 -960 960 960\">\n",
       "    <path d=\"M120-120v-720h720v720H120Zm60-500h600v-160H180v160Zm220 220h160v-160H400v160Zm0 220h160v-160H400v160ZM180-400h160v-160H180v160Zm440 0h160v-160H620v160ZM180-180h160v-160H180v160Zm440 0h160v-160H620v160Z\"/>\n",
       "  </svg>\n",
       "    </button>\n",
       "\n",
       "  <style>\n",
       "    .colab-df-container {\n",
       "      display:flex;\n",
       "      gap: 12px;\n",
       "    }\n",
       "\n",
       "    .colab-df-convert {\n",
       "      background-color: #E8F0FE;\n",
       "      border: none;\n",
       "      border-radius: 50%;\n",
       "      cursor: pointer;\n",
       "      display: none;\n",
       "      fill: #1967D2;\n",
       "      height: 32px;\n",
       "      padding: 0 0 0 0;\n",
       "      width: 32px;\n",
       "    }\n",
       "\n",
       "    .colab-df-convert:hover {\n",
       "      background-color: #E2EBFA;\n",
       "      box-shadow: 0px 1px 2px rgba(60, 64, 67, 0.3), 0px 1px 3px 1px rgba(60, 64, 67, 0.15);\n",
       "      fill: #174EA6;\n",
       "    }\n",
       "\n",
       "    .colab-df-buttons div {\n",
       "      margin-bottom: 4px;\n",
       "    }\n",
       "\n",
       "    [theme=dark] .colab-df-convert {\n",
       "      background-color: #3B4455;\n",
       "      fill: #D2E3FC;\n",
       "    }\n",
       "\n",
       "    [theme=dark] .colab-df-convert:hover {\n",
       "      background-color: #434B5C;\n",
       "      box-shadow: 0px 1px 3px 1px rgba(0, 0, 0, 0.15);\n",
       "      filter: drop-shadow(0px 1px 2px rgba(0, 0, 0, 0.3));\n",
       "      fill: #FFFFFF;\n",
       "    }\n",
       "  </style>\n",
       "\n",
       "    <script>\n",
       "      const buttonEl =\n",
       "        document.querySelector('#df-781abe01-d7ac-4866-ad93-2eee54b1a118 button.colab-df-convert');\n",
       "      buttonEl.style.display =\n",
       "        google.colab.kernel.accessAllowed ? 'block' : 'none';\n",
       "\n",
       "      async function convertToInteractive(key) {\n",
       "        const element = document.querySelector('#df-781abe01-d7ac-4866-ad93-2eee54b1a118');\n",
       "        const dataTable =\n",
       "          await google.colab.kernel.invokeFunction('convertToInteractive',\n",
       "                                                    [key], {});\n",
       "        if (!dataTable) return;\n",
       "\n",
       "        const docLinkHtml = 'Like what you see? Visit the ' +\n",
       "          '<a target=\"_blank\" href=https://colab.research.google.com/notebooks/data_table.ipynb>data table notebook</a>'\n",
       "          + ' to learn more about interactive tables.';\n",
       "        element.innerHTML = '';\n",
       "        dataTable['output_type'] = 'display_data';\n",
       "        await google.colab.output.renderOutput(dataTable, element);\n",
       "        const docLink = document.createElement('div');\n",
       "        docLink.innerHTML = docLinkHtml;\n",
       "        element.appendChild(docLink);\n",
       "      }\n",
       "    </script>\n",
       "  </div>\n",
       "\n",
       "\n",
       "<div id=\"df-5bf3be6d-f738-4edf-9a62-c7ab7c242fac\">\n",
       "  <button class=\"colab-df-quickchart\" onclick=\"quickchart('df-5bf3be6d-f738-4edf-9a62-c7ab7c242fac')\"\n",
       "            title=\"Suggest charts\"\n",
       "            style=\"display:none;\">\n",
       "\n",
       "<svg xmlns=\"http://www.w3.org/2000/svg\" height=\"24px\"viewBox=\"0 0 24 24\"\n",
       "     width=\"24px\">\n",
       "    <g>\n",
       "        <path d=\"M19 3H5c-1.1 0-2 .9-2 2v14c0 1.1.9 2 2 2h14c1.1 0 2-.9 2-2V5c0-1.1-.9-2-2-2zM9 17H7v-7h2v7zm4 0h-2V7h2v10zm4 0h-2v-4h2v4z\"/>\n",
       "    </g>\n",
       "</svg>\n",
       "  </button>\n",
       "\n",
       "<style>\n",
       "  .colab-df-quickchart {\n",
       "      --bg-color: #E8F0FE;\n",
       "      --fill-color: #1967D2;\n",
       "      --hover-bg-color: #E2EBFA;\n",
       "      --hover-fill-color: #174EA6;\n",
       "      --disabled-fill-color: #AAA;\n",
       "      --disabled-bg-color: #DDD;\n",
       "  }\n",
       "\n",
       "  [theme=dark] .colab-df-quickchart {\n",
       "      --bg-color: #3B4455;\n",
       "      --fill-color: #D2E3FC;\n",
       "      --hover-bg-color: #434B5C;\n",
       "      --hover-fill-color: #FFFFFF;\n",
       "      --disabled-bg-color: #3B4455;\n",
       "      --disabled-fill-color: #666;\n",
       "  }\n",
       "\n",
       "  .colab-df-quickchart {\n",
       "    background-color: var(--bg-color);\n",
       "    border: none;\n",
       "    border-radius: 50%;\n",
       "    cursor: pointer;\n",
       "    display: none;\n",
       "    fill: var(--fill-color);\n",
       "    height: 32px;\n",
       "    padding: 0;\n",
       "    width: 32px;\n",
       "  }\n",
       "\n",
       "  .colab-df-quickchart:hover {\n",
       "    background-color: var(--hover-bg-color);\n",
       "    box-shadow: 0 1px 2px rgba(60, 64, 67, 0.3), 0 1px 3px 1px rgba(60, 64, 67, 0.15);\n",
       "    fill: var(--button-hover-fill-color);\n",
       "  }\n",
       "\n",
       "  .colab-df-quickchart-complete:disabled,\n",
       "  .colab-df-quickchart-complete:disabled:hover {\n",
       "    background-color: var(--disabled-bg-color);\n",
       "    fill: var(--disabled-fill-color);\n",
       "    box-shadow: none;\n",
       "  }\n",
       "\n",
       "  .colab-df-spinner {\n",
       "    border: 2px solid var(--fill-color);\n",
       "    border-color: transparent;\n",
       "    border-bottom-color: var(--fill-color);\n",
       "    animation:\n",
       "      spin 1s steps(1) infinite;\n",
       "  }\n",
       "\n",
       "  @keyframes spin {\n",
       "    0% {\n",
       "      border-color: transparent;\n",
       "      border-bottom-color: var(--fill-color);\n",
       "      border-left-color: var(--fill-color);\n",
       "    }\n",
       "    20% {\n",
       "      border-color: transparent;\n",
       "      border-left-color: var(--fill-color);\n",
       "      border-top-color: var(--fill-color);\n",
       "    }\n",
       "    30% {\n",
       "      border-color: transparent;\n",
       "      border-left-color: var(--fill-color);\n",
       "      border-top-color: var(--fill-color);\n",
       "      border-right-color: var(--fill-color);\n",
       "    }\n",
       "    40% {\n",
       "      border-color: transparent;\n",
       "      border-right-color: var(--fill-color);\n",
       "      border-top-color: var(--fill-color);\n",
       "    }\n",
       "    60% {\n",
       "      border-color: transparent;\n",
       "      border-right-color: var(--fill-color);\n",
       "    }\n",
       "    80% {\n",
       "      border-color: transparent;\n",
       "      border-right-color: var(--fill-color);\n",
       "      border-bottom-color: var(--fill-color);\n",
       "    }\n",
       "    90% {\n",
       "      border-color: transparent;\n",
       "      border-bottom-color: var(--fill-color);\n",
       "    }\n",
       "  }\n",
       "</style>\n",
       "\n",
       "  <script>\n",
       "    async function quickchart(key) {\n",
       "      const quickchartButtonEl =\n",
       "        document.querySelector('#' + key + ' button');\n",
       "      quickchartButtonEl.disabled = true;  // To prevent multiple clicks.\n",
       "      quickchartButtonEl.classList.add('colab-df-spinner');\n",
       "      try {\n",
       "        const charts = await google.colab.kernel.invokeFunction(\n",
       "            'suggestCharts', [key], {});\n",
       "      } catch (error) {\n",
       "        console.error('Error during call to suggestCharts:', error);\n",
       "      }\n",
       "      quickchartButtonEl.classList.remove('colab-df-spinner');\n",
       "      quickchartButtonEl.classList.add('colab-df-quickchart-complete');\n",
       "    }\n",
       "    (() => {\n",
       "      let quickchartButtonEl =\n",
       "        document.querySelector('#df-5bf3be6d-f738-4edf-9a62-c7ab7c242fac button');\n",
       "      quickchartButtonEl.style.display =\n",
       "        google.colab.kernel.accessAllowed ? 'block' : 'none';\n",
       "    })();\n",
       "  </script>\n",
       "</div>\n",
       "\n",
       "  <div id=\"id_cd86ad0d-4437-4e88-8ad1-f89b86516385\">\n",
       "    <style>\n",
       "      .colab-df-generate {\n",
       "        background-color: #E8F0FE;\n",
       "        border: none;\n",
       "        border-radius: 50%;\n",
       "        cursor: pointer;\n",
       "        display: none;\n",
       "        fill: #1967D2;\n",
       "        height: 32px;\n",
       "        padding: 0 0 0 0;\n",
       "        width: 32px;\n",
       "      }\n",
       "\n",
       "      .colab-df-generate:hover {\n",
       "        background-color: #E2EBFA;\n",
       "        box-shadow: 0px 1px 2px rgba(60, 64, 67, 0.3), 0px 1px 3px 1px rgba(60, 64, 67, 0.15);\n",
       "        fill: #174EA6;\n",
       "      }\n",
       "\n",
       "      [theme=dark] .colab-df-generate {\n",
       "        background-color: #3B4455;\n",
       "        fill: #D2E3FC;\n",
       "      }\n",
       "\n",
       "      [theme=dark] .colab-df-generate:hover {\n",
       "        background-color: #434B5C;\n",
       "        box-shadow: 0px 1px 3px 1px rgba(0, 0, 0, 0.15);\n",
       "        filter: drop-shadow(0px 1px 2px rgba(0, 0, 0, 0.3));\n",
       "        fill: #FFFFFF;\n",
       "      }\n",
       "    </style>\n",
       "    <button class=\"colab-df-generate\" onclick=\"generateWithVariable('average_mape_df')\"\n",
       "            title=\"Generate code using this dataframe.\"\n",
       "            style=\"display:none;\">\n",
       "\n",
       "  <svg xmlns=\"http://www.w3.org/2000/svg\" height=\"24px\"viewBox=\"0 0 24 24\"\n",
       "       width=\"24px\">\n",
       "    <path d=\"M7,19H8.4L18.45,9,17,7.55,7,17.6ZM5,21V16.75L18.45,3.32a2,2,0,0,1,2.83,0l1.4,1.43a1.91,1.91,0,0,1,.58,1.4,1.91,1.91,0,0,1-.58,1.4L9.25,21ZM18.45,9,17,7.55Zm-12,3A5.31,5.31,0,0,0,4.9,8.1,5.31,5.31,0,0,0,1,6.5,5.31,5.31,0,0,0,4.9,4.9,5.31,5.31,0,0,0,6.5,1,5.31,5.31,0,0,0,8.1,4.9,5.31,5.31,0,0,0,12,6.5,5.46,5.46,0,0,0,6.5,12Z\"/>\n",
       "  </svg>\n",
       "    </button>\n",
       "    <script>\n",
       "      (() => {\n",
       "      const buttonEl =\n",
       "        document.querySelector('#id_cd86ad0d-4437-4e88-8ad1-f89b86516385 button.colab-df-generate');\n",
       "      buttonEl.style.display =\n",
       "        google.colab.kernel.accessAllowed ? 'block' : 'none';\n",
       "\n",
       "      buttonEl.onclick = () => {\n",
       "        google.colab.notebook.generateWithVariable('average_mape_df');\n",
       "      }\n",
       "      })();\n",
       "    </script>\n",
       "  </div>\n",
       "\n",
       "    </div>\n",
       "  </div>\n"
      ],
      "text/plain": [
       "        combo    avg_mape\n",
       "0   (0, 0, 0)   36.364153\n",
       "1   (0, 0, 1)   35.836103\n",
       "2   (0, 0, 2)   35.200416\n",
       "3   (0, 0, 3)   36.088199\n",
       "4   (0, 1, 0)   58.662106\n",
       "5   (0, 1, 1)   54.261608\n",
       "6   (0, 1, 2)   51.930196\n",
       "7   (0, 1, 3)   34.594611\n",
       "8   (0, 2, 0)  261.700684\n",
       "9   (0, 2, 1)   69.588529\n",
       "10  (0, 2, 2)   77.645635\n",
       "11  (0, 2, 3)   79.815368\n",
       "12  (1, 0, 0)   34.769050\n",
       "13  (1, 0, 1)   34.910799\n",
       "14  (1, 0, 2)   34.882528\n",
       "15  (1, 0, 3)   34.942585\n",
       "16  (1, 1, 0)   55.700550\n",
       "17  (1, 1, 1)   32.624136\n",
       "18  (1, 1, 2)   53.832252\n",
       "19  (1, 1, 3)   35.541810\n",
       "20  (1, 2, 0)  234.536131\n",
       "21  (1, 2, 1)   64.669843\n",
       "22  (1, 2, 2)   69.337830\n",
       "23  (1, 2, 3)   69.383444\n",
       "24  (2, 0, 0)   34.890855\n",
       "25  (2, 0, 1)   34.497624\n",
       "26  (2, 0, 2)   38.728264\n",
       "27  (2, 0, 3)   34.450839\n",
       "28  (2, 1, 0)   57.824546\n",
       "29  (2, 1, 1)   32.773074\n",
       "30  (2, 1, 2)   32.238638\n",
       "31  (2, 1, 3)   51.546060\n",
       "32  (2, 2, 0)  156.846278\n",
       "33  (2, 2, 1)   70.747578\n",
       "34  (2, 2, 2)   69.630309\n",
       "35  (2, 2, 3)   57.344403\n",
       "36  (3, 0, 0)   34.848317\n",
       "37  (3, 0, 1)   34.699123\n",
       "38  (3, 0, 2)   30.881678\n",
       "39  (3, 0, 3)   34.091631\n",
       "40  (3, 1, 0)   54.202563\n",
       "41  (3, 1, 1)   60.538142\n",
       "42  (3, 1, 2)   63.935948\n",
       "43  (3, 1, 3)   51.365207\n",
       "44  (3, 2, 0)  362.440779\n",
       "45  (3, 2, 1)   68.387950\n",
       "46  (3, 2, 2)  301.057628\n",
       "47  (3, 2, 3)  301.130710"
      ]
     },
     "execution_count": 25,
     "metadata": {},
     "output_type": "execute_result"
    }
   ],
   "source": [
    "# Perform 5-fold cross validation for each combination\n",
    "\n",
    "warnings.simplefilter('ignore', UserWarning)\n",
    "\n",
    "average_mape_df = pd.DataFrame(columns=['combo', 'avg_mape'])\n",
    "\n",
    "for combo in combos:\n",
    "    # Set number of folds\n",
    "    n_splits = 5\n",
    "    tscv = TimeSeriesSplit(n_splits=n_splits)\n",
    "\n",
    "    # Initialize lists to store evaluation metrics\n",
    "    mape_scores = []\n",
    "\n",
    "    # Fit and predict\n",
    "    for train_index, test_index in tscv.split(df_ts):\n",
    "        train_data, test_data = df_ts.iloc[train_index], df_ts.iloc[test_index]\n",
    "        model = ARIMA(train_data, order=combo).fit()\n",
    "        predictions = model.forecast(steps=len(test_data))\n",
    "\n",
    "        # Calculate MAPE\n",
    "        mape_cur = mean_absolute_percentage_error(test_data, predictions) * 100\n",
    "        mape_scores.append(mape_cur)\n",
    "\n",
    "    # Calculate average MAPE\n",
    "    average_mape = np.mean(mape_scores)\n",
    "    average_mape_df = average_mape_df._append({'combo': combo, 'avg_mape': average_mape}, ignore_index=True)\n",
    "\n",
    "average_mape_df"
   ]
  },
  {
   "cell_type": "code",
   "execution_count": 26,
   "id": "6_hnMz-E9VeT",
   "metadata": {
    "colab": {
     "base_uri": "https://localhost:8080/",
     "height": 80
    },
    "id": "6_hnMz-E9VeT",
    "outputId": "9c852310-a7dc-4a57-f6a1-69b9d4e3d55d"
   },
   "outputs": [
    {
     "data": {
      "application/vnd.google.colaboratory.intrinsic+json": {
       "summary": "{\n  \"name\": \"average_mape_df[average_mape_df[\\\"avg_mape\\\"] == min_avg_mape]\",\n  \"rows\": 1,\n  \"fields\": [\n    {\n      \"column\": \"combo\",\n      \"properties\": {\n        \"dtype\": \"string\",\n        \"num_unique_values\": 1,\n        \"samples\": [\n          [\n            3,\n            0,\n            2\n          ]\n        ],\n        \"semantic_type\": \"\",\n        \"description\": \"\"\n      }\n    },\n    {\n      \"column\": \"avg_mape\",\n      \"properties\": {\n        \"dtype\": \"number\",\n        \"std\": null,\n        \"min\": 30.88167795009415,\n        \"max\": 30.88167795009415,\n        \"num_unique_values\": 1,\n        \"samples\": [\n          30.88167795009415\n        ],\n        \"semantic_type\": \"\",\n        \"description\": \"\"\n      }\n    }\n  ]\n}",
       "type": "dataframe"
      },
      "text/html": [
       "\n",
       "  <div id=\"df-4f4472bf-c314-42de-822e-4cc45ba5f59e\" class=\"colab-df-container\">\n",
       "    <div>\n",
       "<style scoped>\n",
       "    .dataframe tbody tr th:only-of-type {\n",
       "        vertical-align: middle;\n",
       "    }\n",
       "\n",
       "    .dataframe tbody tr th {\n",
       "        vertical-align: top;\n",
       "    }\n",
       "\n",
       "    .dataframe thead th {\n",
       "        text-align: right;\n",
       "    }\n",
       "</style>\n",
       "<table border=\"1\" class=\"dataframe\">\n",
       "  <thead>\n",
       "    <tr style=\"text-align: right;\">\n",
       "      <th></th>\n",
       "      <th>combo</th>\n",
       "      <th>avg_mape</th>\n",
       "    </tr>\n",
       "  </thead>\n",
       "  <tbody>\n",
       "    <tr>\n",
       "      <th>38</th>\n",
       "      <td>(3, 0, 2)</td>\n",
       "      <td>30.881678</td>\n",
       "    </tr>\n",
       "  </tbody>\n",
       "</table>\n",
       "</div>\n",
       "    <div class=\"colab-df-buttons\">\n",
       "\n",
       "  <div class=\"colab-df-container\">\n",
       "    <button class=\"colab-df-convert\" onclick=\"convertToInteractive('df-4f4472bf-c314-42de-822e-4cc45ba5f59e')\"\n",
       "            title=\"Convert this dataframe to an interactive table.\"\n",
       "            style=\"display:none;\">\n",
       "\n",
       "  <svg xmlns=\"http://www.w3.org/2000/svg\" height=\"24px\" viewBox=\"0 -960 960 960\">\n",
       "    <path d=\"M120-120v-720h720v720H120Zm60-500h600v-160H180v160Zm220 220h160v-160H400v160Zm0 220h160v-160H400v160ZM180-400h160v-160H180v160Zm440 0h160v-160H620v160ZM180-180h160v-160H180v160Zm440 0h160v-160H620v160Z\"/>\n",
       "  </svg>\n",
       "    </button>\n",
       "\n",
       "  <style>\n",
       "    .colab-df-container {\n",
       "      display:flex;\n",
       "      gap: 12px;\n",
       "    }\n",
       "\n",
       "    .colab-df-convert {\n",
       "      background-color: #E8F0FE;\n",
       "      border: none;\n",
       "      border-radius: 50%;\n",
       "      cursor: pointer;\n",
       "      display: none;\n",
       "      fill: #1967D2;\n",
       "      height: 32px;\n",
       "      padding: 0 0 0 0;\n",
       "      width: 32px;\n",
       "    }\n",
       "\n",
       "    .colab-df-convert:hover {\n",
       "      background-color: #E2EBFA;\n",
       "      box-shadow: 0px 1px 2px rgba(60, 64, 67, 0.3), 0px 1px 3px 1px rgba(60, 64, 67, 0.15);\n",
       "      fill: #174EA6;\n",
       "    }\n",
       "\n",
       "    .colab-df-buttons div {\n",
       "      margin-bottom: 4px;\n",
       "    }\n",
       "\n",
       "    [theme=dark] .colab-df-convert {\n",
       "      background-color: #3B4455;\n",
       "      fill: #D2E3FC;\n",
       "    }\n",
       "\n",
       "    [theme=dark] .colab-df-convert:hover {\n",
       "      background-color: #434B5C;\n",
       "      box-shadow: 0px 1px 3px 1px rgba(0, 0, 0, 0.15);\n",
       "      filter: drop-shadow(0px 1px 2px rgba(0, 0, 0, 0.3));\n",
       "      fill: #FFFFFF;\n",
       "    }\n",
       "  </style>\n",
       "\n",
       "    <script>\n",
       "      const buttonEl =\n",
       "        document.querySelector('#df-4f4472bf-c314-42de-822e-4cc45ba5f59e button.colab-df-convert');\n",
       "      buttonEl.style.display =\n",
       "        google.colab.kernel.accessAllowed ? 'block' : 'none';\n",
       "\n",
       "      async function convertToInteractive(key) {\n",
       "        const element = document.querySelector('#df-4f4472bf-c314-42de-822e-4cc45ba5f59e');\n",
       "        const dataTable =\n",
       "          await google.colab.kernel.invokeFunction('convertToInteractive',\n",
       "                                                    [key], {});\n",
       "        if (!dataTable) return;\n",
       "\n",
       "        const docLinkHtml = 'Like what you see? Visit the ' +\n",
       "          '<a target=\"_blank\" href=https://colab.research.google.com/notebooks/data_table.ipynb>data table notebook</a>'\n",
       "          + ' to learn more about interactive tables.';\n",
       "        element.innerHTML = '';\n",
       "        dataTable['output_type'] = 'display_data';\n",
       "        await google.colab.output.renderOutput(dataTable, element);\n",
       "        const docLink = document.createElement('div');\n",
       "        docLink.innerHTML = docLinkHtml;\n",
       "        element.appendChild(docLink);\n",
       "      }\n",
       "    </script>\n",
       "  </div>\n",
       "\n",
       "\n",
       "    </div>\n",
       "  </div>\n"
      ],
      "text/plain": [
       "        combo   avg_mape\n",
       "38  (3, 0, 2)  30.881678"
      ]
     },
     "execution_count": 26,
     "metadata": {},
     "output_type": "execute_result"
    }
   ],
   "source": [
    "min_avg_mape = min(average_mape_df[\"avg_mape\"])\n",
    "average_mape_df[average_mape_df[\"avg_mape\"] == min_avg_mape]"
   ]
  },
  {
   "cell_type": "markdown",
   "id": "SvNhOUynEXaf",
   "metadata": {
    "id": "SvNhOUynEXaf"
   },
   "source": [
    "**With cross validation, the best order of ARIMA model should be (3, 0, 2). Let's see how it performs on test data.**"
   ]
  },
  {
   "cell_type": "code",
   "execution_count": 27,
   "id": "3iX8BUFaE0qU",
   "metadata": {
    "colab": {
     "base_uri": "https://localhost:8080/"
    },
    "id": "3iX8BUFaE0qU",
    "outputId": "87418323-8649-467b-adb0-3918230d5942"
   },
   "outputs": [
    {
     "name": "stdout",
     "output_type": "stream",
     "text": [
      "MAE: 2473.1485\n",
      "MAPE: 15.5256%\n",
      "SMAPE: 15.0213%\n",
      "MSE: 9400121.9991\n",
      "RMSE: 3065.9618\n"
     ]
    }
   ],
   "source": [
    "# Fit and predict\n",
    "y_test_ts, y_pred_ts = build_arima(train_ts, test_ts, order=(3,0,2))\n",
    "\n",
    "# Evaluate model\n",
    "\n",
    "arima_mae = mean_absolute_error(y_test_ts, y_pred_ts)\n",
    "print(f\"MAE: {arima_mae:.4f}\")\n",
    "\n",
    "arima_mape = mean_absolute_percentage_error(y_test_ts, y_pred_ts) * 100\n",
    "print(f\"MAPE: {arima_mape:.4f}%\")\n",
    "\n",
    "arima_smape = smape(y_test_ts, y_pred_ts)\n",
    "print(f\"SMAPE: {arima_smape:.4f}%\")\n",
    "\n",
    "arima_mse = mean_squared_error(y_test_ts, y_pred_ts)\n",
    "print(f\"MSE: {arima_mse:.4f}\")\n",
    "\n",
    "arima_rmse = np.sqrt(arima_mse)\n",
    "print(f\"RMSE: {arima_rmse:.4f}\")"
   ]
  },
  {
   "cell_type": "code",
   "execution_count": 28,
   "id": "_MF0tNWvFK_B",
   "metadata": {
    "colab": {
     "base_uri": "https://localhost:8080/",
     "height": 382
    },
    "id": "_MF0tNWvFK_B",
    "outputId": "21adec43-4ae4-4225-b76c-cd600132ece4"
   },
   "outputs": [
    {
     "data": {
      "image/png": "[encoded data removed]",
      "text/plain": [
       "<Figure size 1200x500 with 1 Axes>"
      ]
     },
     "metadata": {},
     "output_type": "display_data"
    }
   ],
   "source": [
    "# Plot actual vs. predicted test data\n",
    "plt.figure(figsize=(12,5))\n",
    "axes = plt.axes()\n",
    "axes.plot(test_ts.index, y_test_ts, marker='o', color='orange', label='Actual')\n",
    "axes.plot(test_ts.index, y_pred_ts, marker='o', color='green', label='Prediction')\n",
    "axes.legend()\n",
    "plt.show()"
   ]
  },
  {
   "cell_type": "code",
   "execution_count": 29,
   "id": "zkzWb-E3FQHa",
   "metadata": {
    "colab": {
     "base_uri": "https://localhost:8080/",
     "height": 382
    },
    "id": "zkzWb-E3FQHa",
    "outputId": "4c1e912f-48fb-4b83-8a82-950584f44cfd"
   },
   "outputs": [
    {
     "data": {
      "image/png": "[encoded data removed]",
      "text/plain": [
       "<Figure size 1200x500 with 1 Axes>"
      ]
     },
     "metadata": {},
     "output_type": "display_data"
    }
   ],
   "source": [
    "# Plot training (history), test (actual), and predicted data\n",
    "plt.figure(figsize=(12,5))\n",
    "axes = plt.axes()\n",
    "axes.plot(train_ts.index, train_ts.iloc[:, 0], marker='o', label='History')\n",
    "axes.plot(test_ts.index, y_test_ts, marker='o', color='orange', label='Actual')\n",
    "axes.plot(test_ts.index, y_pred_ts, marker='o', color='green', label='Prediction')\n",
    "axes.legend()\n",
    "plt.show()"
   ]
  },
  {
   "cell_type": "markdown",
   "id": "1_2bBeR_h_ie",
   "metadata": {
    "id": "1_2bBeR_h_ie"
   },
   "source": [
    "### **5. Summary**"
   ]
  },
  {
   "cell_type": "markdown",
   "id": "aBFuTtcVQybG",
   "metadata": {
    "id": "aBFuTtcVQybG"
   },
   "source": [
    "- **Steps I have taken**\n",
    "    - Loaded and examined the data from previous notebook.\n",
    "    - Splitted the dataset into train and test set.\n",
    "    - Performed feature selection for multiple linear regression. Then fit, predicted, and evaluated the model.\n",
    "    - Performed ADF test and auto arima for parameters selection of ARIMA model. Then fit, predicted, and evaluated the model.\n",
    "    - Performed cross validation on parameters selection for another ARIMA model. Then fit, predicted, and evaluated the new model.\n",
    "    - Visualization of model prediction results."
   ]
  },
  {
   "cell_type": "markdown",
   "id": "acfbc0ce-5254-4e2b-97df-c6793d00b4b8",
   "metadata": {
    "id": "zshvymkJKuo6"
   },
   "source": [
    "- **Results**\n",
    "    - **Multiple Linear Regression**\n",
    "        - Chose the top 4 features for modeling: Year, IsHoliday, CPI, Unemployment\n",
    "        - Coefficients:\n",
    "            - Year: -19476.4345\n",
    "            - IsHoliday: 3723.5897\n",
    "            - CPI: 7939.2845\n",
    "            - Unemployment: -4053.2594\n",
    "        - Interceptor: 38191051.8778\n",
    "        - Evaluation:\n",
    "            - MAE 5035.0428\n",
    "            - MAPE: 35.2171%\n",
    "            - SMAPE: 28.0099%\n",
    "            - MSE: 36145251.5922\n",
    "            - RMSE: 6012.0921\n",
    "            - R-Squared: 0.1892\n",
    "    \n",
    "    - **ARIMA**\n",
    "        - ADF test: the data was stationary, so d was set as 0.\n",
    "        - Auto arima for tuning: (p=1, d=0, q=0) led to best AIC.\n",
    "            - Results with this setting:\n",
    "                - MAE: 2893.4832\n",
    "                - MAPE: 18.9203%\n",
    "                - SMAPE: 17.4038%\n",
    "                - MSE: 10495505.2151\n",
    "                - RMSE: 3239.6767\n",
    "        - Cross validation for tuning: (p=3, d=0, q=2) led to the least error rate.\n",
    "            - Results with this setting:\n",
    "                - MAE: 2473.1485\n",
    "                - MAPE: 15.5256%\n",
    "                - SMAPE: 15.0213%\n",
    "                - MSE: 9400121.9991\n",
    "                - RMSE: 3065.9618"
   ]
  },
  {
   "cell_type": "markdown",
   "id": "fa7404c0-ca57-48a6-8156-98b4f3984d11",
   "metadata": {},
   "source": [
    "- **Interest Findings**\n",
    "    - For MLR:\n",
    "        - R-squared is just less than 19%, bad performance for the linear model. Apparently, the dataset is not linear correlated through plotting.\n",
    "        - MAPE and SMAPE are about 1/3, not good.\n",
    "        - RMSE and MAE were quite large, maybe because the values of weekly sales are large number. A small percent of error could led to large error value.\n",
    "        - Most of the coefficients of the features are reasonable. For example, Unemployment rate is negatively related with weekly sales. Less people umemployed, the better the sales will be. What is interesting is Year is also negatively related. It may due to various reasons, but the trend is not good for a store.\n",
    "\n",
    "    - For ARIMA:\n",
    "        - ARIMA performs better than linear regression, reducing the error and capturing the trend in a better way.\n",
    "        - Auto arima and cross validation led to different tuning results. Cross validation led to better performance than auto arima. But auto arima is the suggested methods. One reason is because auto arima uses a build-in metric AIC to measure the performance, while cross validation is more customizable. AIC and MAPE might calculate in a different way.\n",
    "        - For cross validation, we need to set the scope of the target parameter. Since there might be better results out of the set scope, the result we get might be just a local best solution instead of a global one."
   ]
  },
  {
   "cell_type": "code",
   "execution_count": null,
   "id": "78e6f5b6-7561-4dd3-82c3-603610fea4c4",
   "metadata": {},
   "outputs": [],
   "source": []
  }
 ],
 "metadata": {
  "colab": {
   "provenance": [],
   "toc_visible": true
  },
  "kernelspec": {
   "display_name": "Python 3 (ipykernel)",
   "language": "python",
   "name": "python3"
  },
  "language_info": {
   "codemirror_mode": {
    "name": "ipython",
    "version": 3
   },
   "file_extension": ".py",
   "mimetype": "text/x-python",
   "name": "python",
   "nbconvert_exporter": "python",
   "pygments_lexer": "ipython3",
   "version": "3.11.9"
  }
 },
 "nbformat": 4,
 "nbformat_minor": 5
}
